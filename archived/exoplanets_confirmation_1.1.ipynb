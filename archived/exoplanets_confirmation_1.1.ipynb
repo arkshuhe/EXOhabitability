{
 "cells": [
  {
   "attachments": {},
   "cell_type": "markdown",
   "metadata": {},
   "source": [
    "## Search for more habitable planets\n",
    "\n",
    "PHE identifies a handful of exoplanets as habitable ones out of more than 4000 exoplanets. \n",
    "Given numbers of inhabitable exoplanets are enormouse, and still a little chance to make the mistake on this identification,\n",
    "we target to verify this identification, and try to find out more habitable exoplanet from inhabitable set.\n",
    "\n",
    "Our approach is:\n",
    "1. Pick up all inhabitable ones, all of given features judging habitability have values.\n",
    "2. Using clustering algorithms to try to find the inhabitable ones closed to habitable ones.\n",
    "3. Using cosine similiarity to compare habitable ones with inhabitable one, and pick up the closed one as candidates.\n",
    "4. Using Chatgpt to verify the closed one, and select the final candidates for manual verification.\n",
    "\n",
    "It is possible for some exoplanets not to have the critical features such as mass or radius. For this, the supervised\n",
    "learning will be taken such as logistic regression to predict the critical features, then take the above process.\n",
    "It may increase the chances to look for more habitable exoplanets."
   ]
  },
  {
   "cell_type": "code",
   "execution_count": 52,
   "metadata": {},
   "outputs": [],
   "source": [
    "# Load the necessary libraries\n",
    "import numpy as np\n",
    "import pandas as pd\n",
    "pd.options.mode.chained_assignment = None  # default='warn', to avoid warnings"
   ]
  },
  {
   "attachments": {},
   "cell_type": "markdown",
   "metadata": {},
   "source": [
    "### 1. Data Preparation"
   ]
  },
  {
   "attachments": {},
   "cell_type": "markdown",
   "metadata": {},
   "source": [
    "##### 1.1 Identify target exoplanets"
   ]
  },
  {
   "cell_type": "code",
   "execution_count": 53,
   "metadata": {},
   "outputs": [],
   "source": [
    "# Access NASA Exoplanets Archive Data by the following:\n",
    "# https://exoplanetarchive.ipac.caltech.edu/docs/TAP/usingTAP.html\n",
    "import requests\n",
    "\n",
    "def get_json_data(url):\n",
    "    # Send a GET request to the specified URL\n",
    "    response = requests.get(url)\n",
    "    \n",
    "    # Check if the request was successful\n",
    "    if response.status_code == 200:\n",
    "        # Convert the JSON response to a pandas dataset\n",
    "        json_data = response.json()\n",
    "        dataset = pd.DataFrame(json_data)\n",
    "        return dataset\n",
    "    else:\n",
    "        # Handle the request error\n",
    "        print(f\"Request failed with status code: {response.status_code}\")\n",
    "        return None\n"
   ]
  },
  {
   "cell_type": "code",
   "execution_count": 54,
   "metadata": {},
   "outputs": [],
   "source": [
    "\n",
    "def get_all_confirmed_exoplanets():\n",
    "    # Query the NASA Exoplanet Archive for all confirmed exoplanets\n",
    "    #exoplanets = NasaExoplanetArchive.query_criteria(table=\"exoplanets\", select=\"*\")\n",
    "    url = 'https://exoplanetarchive.ipac.caltech.edu/TAP/sync?query=select+*+from+ps&format=JSON'  # Replace with the actual URL\n",
    "    exoplanets = get_json_data(url)\n",
    "    return exoplanets"
   ]
  },
  {
   "cell_type": "code",
   "execution_count": 55,
   "metadata": {},
   "outputs": [],
   "source": [
    "# Example usage\n",
    "import os\n",
    "\n",
    "if os.path.exists(\"../assets/data/exoplanets.csv\"):\n",
    "    exoplanets = pd.read_csv(\"../assets/data/exoplanets.csv\",low_memory=False)\n",
    "else:\n",
    "    exoplanets = get_all_confirmed_exoplanets()\n",
    "    if exoplanets is not None:\n",
    "        # Process and analyze the dataset as needed\n",
    "        # ...\n",
    "        print(exoplanets.head())\n",
    "        exoplanets.to_csv(\"./assets/data/exoplanets.csv\", index=False)"
   ]
  },
  {
   "cell_type": "code",
   "execution_count": 56,
   "metadata": {},
   "outputs": [
    {
     "data": {
      "text/plain": [
       "34671"
      ]
     },
     "execution_count": 56,
     "metadata": {},
     "output_type": "execute_result"
    }
   ],
   "source": [
    "# count list of confirmation status without being questioned.\n",
    "exoplanets.pl_name[exoplanets.pl_controv_flag==0].count()"
   ]
  },
  {
   "cell_type": "code",
   "execution_count": 57,
   "metadata": {},
   "outputs": [
    {
     "data": {
      "text/plain": [
       "1513    NaN\n",
       "19475   NaN\n",
       "Name: pl_rade, dtype: float64"
      ]
     },
     "execution_count": 57,
     "metadata": {},
     "output_type": "execute_result"
    }
   ],
   "source": [
    "exoplanets[exoplanets.pl_name.str.find('11 Com b')==0]['pl_rade']"
   ]
  },
  {
   "attachments": {},
   "cell_type": "markdown",
   "metadata": {},
   "source": [
    "##### 1.2 Load habitable zone’s data"
   ]
  },
  {
   "cell_type": "code",
   "execution_count": 58,
   "metadata": {},
   "outputs": [],
   "source": [
    "\n",
    "hz=pd.read_csv('../assets/data/table.csv')"
   ]
  },
  {
   "cell_type": "code",
   "execution_count": 59,
   "metadata": {},
   "outputs": [
    {
     "data": {
      "text/html": [
       "<div>\n",
       "<style scoped>\n",
       "    .dataframe tbody tr th:only-of-type {\n",
       "        vertical-align: middle;\n",
       "    }\n",
       "\n",
       "    .dataframe tbody tr th {\n",
       "        vertical-align: top;\n",
       "    }\n",
       "\n",
       "    .dataframe thead th {\n",
       "        text-align: right;\n",
       "    }\n",
       "</style>\n",
       "<table border=\"1\" class=\"dataframe\">\n",
       "  <thead>\n",
       "    <tr style=\"text-align: right;\">\n",
       "      <th></th>\n",
       "      <th>PLANET</th>\n",
       "      <th>MASS</th>\n",
       "      <th>RADIUS</th>\n",
       "      <th>PERIOD</th>\n",
       "      <th>ECC</th>\n",
       "      <th>OMEGA</th>\n",
       "      <th>THZC</th>\n",
       "      <th>THZO</th>\n",
       "      <th>TEQA</th>\n",
       "      <th>TEQB</th>\n",
       "      <th>TEQC</th>\n",
       "      <th>TEQD</th>\n",
       "      <th>OHZIN</th>\n",
       "      <th>CHZIN</th>\n",
       "      <th>CHZOUT</th>\n",
       "      <th>OHZOUT</th>\n",
       "    </tr>\n",
       "  </thead>\n",
       "  <tbody>\n",
       "    <tr>\n",
       "      <th>0</th>\n",
       "      <td>11 Com b</td>\n",
       "      <td>19.400</td>\n",
       "      <td></td>\n",
       "      <td>326.0</td>\n",
       "      <td>0.231</td>\n",
       "      <td>94.8</td>\n",
       "      <td>0.0</td>\n",
       "      <td>0.0</td>\n",
       "      <td>1209.5</td>\n",
       "      <td>1017.1</td>\n",
       "      <td>956.0</td>\n",
       "      <td>803.9</td>\n",
       "      <td>10.481</td>\n",
       "      <td>13.276</td>\n",
       "      <td>24.285</td>\n",
       "      <td>25.615</td>\n",
       "    </tr>\n",
       "    <tr>\n",
       "      <th>1</th>\n",
       "      <td>11 UMi b</td>\n",
       "      <td>14.740</td>\n",
       "      <td></td>\n",
       "      <td>516.2</td>\n",
       "      <td>0.080</td>\n",
       "      <td>90.0</td>\n",
       "      <td>0.0</td>\n",
       "      <td>0.0</td>\n",
       "      <td>1111.3</td>\n",
       "      <td>934.5</td>\n",
       "      <td>1025.6</td>\n",
       "      <td>862.5</td>\n",
       "      <td>12.783</td>\n",
       "      <td>16.192</td>\n",
       "      <td>30.355</td>\n",
       "      <td>32.018</td>\n",
       "    </tr>\n",
       "    <tr>\n",
       "      <th>2</th>\n",
       "      <td>14 And b</td>\n",
       "      <td>4.800</td>\n",
       "      <td></td>\n",
       "      <td>185.8</td>\n",
       "      <td>0.000</td>\n",
       "      <td>0.0</td>\n",
       "      <td>0.0</td>\n",
       "      <td>0.0</td>\n",
       "      <td>1003.1</td>\n",
       "      <td>843.5</td>\n",
       "      <td>1003.1</td>\n",
       "      <td>843.5</td>\n",
       "      <td>6.013</td>\n",
       "      <td>7.617</td>\n",
       "      <td>13.890</td>\n",
       "      <td>14.651</td>\n",
       "    </tr>\n",
       "    <tr>\n",
       "      <th>3</th>\n",
       "      <td>16 Cyg B b</td>\n",
       "      <td>1.780</td>\n",
       "      <td></td>\n",
       "      <td>798.5</td>\n",
       "      <td>0.680</td>\n",
       "      <td>90.0</td>\n",
       "      <td>21.2</td>\n",
       "      <td>29.2</td>\n",
       "      <td>480.8</td>\n",
       "      <td>404.3</td>\n",
       "      <td>209.9</td>\n",
       "      <td>176.5</td>\n",
       "      <td>0.842</td>\n",
       "      <td>1.066</td>\n",
       "      <td>1.881</td>\n",
       "      <td>1.984</td>\n",
       "    </tr>\n",
       "    <tr>\n",
       "      <th>4</th>\n",
       "      <td>17 Sco b</td>\n",
       "      <td>4.320</td>\n",
       "      <td></td>\n",
       "      <td>578.4</td>\n",
       "      <td>0.060</td>\n",
       "      <td>57.0</td>\n",
       "      <td>0.0</td>\n",
       "      <td>0.0</td>\n",
       "      <td>1038.4</td>\n",
       "      <td>873.2</td>\n",
       "      <td>977.9</td>\n",
       "      <td>822.3</td>\n",
       "      <td>10.825</td>\n",
       "      <td>13.712</td>\n",
       "      <td>25.776</td>\n",
       "      <td>27.188</td>\n",
       "    </tr>\n",
       "  </tbody>\n",
       "</table>\n",
       "</div>"
      ],
      "text/plain": [
       "                           PLANET     MASS   RADIUS  PERIOD    ECC  OMEGA  \\\n",
       "0  11 Com b                         19.400            326.0  0.231   94.8   \n",
       "1  11 UMi b                         14.740            516.2  0.080   90.0   \n",
       "2  14 And b                          4.800            185.8  0.000    0.0   \n",
       "3  16 Cyg B b                        1.780            798.5  0.680   90.0   \n",
       "4  17 Sco b                          4.320            578.4  0.060   57.0   \n",
       "\n",
       "   THZC  THZO    TEQA    TEQB    TEQC   TEQD   OHZIN   CHZIN  CHZOUT  OHZOUT  \n",
       "0   0.0   0.0  1209.5  1017.1   956.0  803.9  10.481  13.276  24.285  25.615  \n",
       "1   0.0   0.0  1111.3   934.5  1025.6  862.5  12.783  16.192  30.355  32.018  \n",
       "2   0.0   0.0  1003.1   843.5  1003.1  843.5   6.013   7.617  13.890  14.651  \n",
       "3  21.2  29.2   480.8   404.3   209.9  176.5   0.842   1.066   1.881   1.984  \n",
       "4   0.0   0.0  1038.4   873.2   977.9  822.3  10.825  13.712  25.776  27.188  "
      ]
     },
     "execution_count": 59,
     "metadata": {},
     "output_type": "execute_result"
    }
   ],
   "source": [
    "hz.head()"
   ]
  },
  {
   "attachments": {},
   "cell_type": "markdown",
   "metadata": {},
   "source": [
    "##### 1.3  Load open exoplanet catlogue’s data"
   ]
  },
  {
   "cell_type": "code",
   "execution_count": 60,
   "metadata": {},
   "outputs": [],
   "source": [
    "\n",
    "oec=pd.read_csv('../assets/data/open_exoplanet_catalogue.csv')"
   ]
  },
  {
   "cell_type": "code",
   "execution_count": 61,
   "metadata": {},
   "outputs": [
    {
     "data": {
      "text/plain": [
       "1011   NaN\n",
       "Name: radius, dtype: float64"
      ]
     },
     "execution_count": 61,
     "metadata": {},
     "output_type": "execute_result"
    }
   ],
   "source": [
    "oec[oec.name.str.find('11 Com b')==0]['radius']"
   ]
  },
  {
   "attachments": {},
   "cell_type": "markdown",
   "metadata": {},
   "source": [
    "Conclusion: Lack of raidus data in HZ still exists in both NASA and oec"
   ]
  },
  {
   "attachments": {},
   "cell_type": "markdown",
   "metadata": {},
   "source": [
    "##### 1.4 Remove the rows without MASS or Radius"
   ]
  },
  {
   "cell_type": "code",
   "execution_count": 62,
   "metadata": {},
   "outputs": [
    {
     "name": "stdout",
     "output_type": "stream",
     "text": [
      "PLANET: 0\n",
      "MASS: 2876\n",
      "RADIUS: 784\n",
      "PERIOD: 0\n",
      "ECC: 0\n",
      "OMEGA: 0\n",
      "THZC: 0\n",
      "THZO: 0\n",
      "TEQA: 0\n",
      "TEQB: 0\n",
      "TEQC: 0\n",
      "TEQD: 0\n",
      "OHZIN: 0\n",
      "CHZIN: 0\n",
      "CHZOUT: 0\n",
      "OHZOUT: 0\n"
     ]
    }
   ],
   "source": [
    "\n",
    "# write a code to remove the following blank between ',' in all columns of hz, then\n",
    "# count the number of rows by each column which contains nothing\n",
    "def count_null(df):\n",
    "    for column in df.columns:\n",
    "        #print(column)\n",
    "        if df[column].dtype=='object':\n",
    "            df[column]=df[column].str.strip()\n",
    "            #df[df[column]==''][column]=np.nan\n",
    "            print(\"%s: %d\" %(column, df[df[column]==''][column].count()))\n",
    "        else:\n",
    "            print(\"%s: %d\" %(column, df[df[column].isnull()][column].count()))\n",
    "    return df\n",
    "\n",
    "hz_nona=count_null(hz)"
   ]
  },
  {
   "cell_type": "code",
   "execution_count": 63,
   "metadata": {},
   "outputs": [],
   "source": [
    "# Remove the rows whose mass or radius does not exist since either of them is necessary for calculating the habitable zone\n",
    "hz_nona=hz_nona[(hz_nona['MASS']!='') & (hz_nona['RADIUS']!='')]\n",
    "\n",
    "# Remove the rows whose mass or radius is not a number\n",
    "hz_nona=hz_nona[(hz_nona['MASS']!='nan') & (hz_nona['RADIUS']!='nan')]\n",
    "\n",
    "# Find out the rows whose either mass or radius is not a number\n",
    "\n",
    "\n",
    "# change dtypes of mass and radius to float\n",
    "hz_nona['MASS']=hz_nona['MASS'].astype(float)\n",
    "hz_nona['RADIUS']=hz_nona['RADIUS'].astype(float)"
   ]
  },
  {
   "cell_type": "code",
   "execution_count": 64,
   "metadata": {},
   "outputs": [
    {
     "data": {
      "text/plain": [
       "PLANET    1003\n",
       "MASS      1003\n",
       "RADIUS    1003\n",
       "PERIOD    1003\n",
       "ECC       1003\n",
       "OMEGA     1003\n",
       "THZC      1003\n",
       "THZO      1003\n",
       "TEQA      1003\n",
       "TEQB      1003\n",
       "TEQC      1003\n",
       "TEQD      1003\n",
       "OHZIN     1003\n",
       "CHZIN     1003\n",
       "CHZOUT    1003\n",
       "OHZOUT    1003\n",
       "dtype: int64"
      ]
     },
     "execution_count": 64,
     "metadata": {},
     "output_type": "execute_result"
    }
   ],
   "source": [
    "hz_nona.count()"
   ]
  },
  {
   "cell_type": "code",
   "execution_count": 65,
   "metadata": {},
   "outputs": [],
   "source": [
    "# remove the ' ' in hz.PLANET\n",
    "hz.PLANET=hz.PLANET.apply(lambda x: str(x).strip())"
   ]
  },
  {
   "cell_type": "code",
   "execution_count": 66,
   "metadata": {},
   "outputs": [],
   "source": [
    "# 4. Read the candidate of habitable planets\n",
    "phe=pd.read_csv('../assets/data/PHE.csv')"
   ]
  },
  {
   "cell_type": "code",
   "execution_count": 67,
   "metadata": {},
   "outputs": [],
   "source": [
    "# remove the '\\xa0(N)' in phe.Planet\n",
    "phe.Planet=phe.Planet.apply(lambda x: str(x).strip().replace('\\xa0(N)',''))"
   ]
  },
  {
   "cell_type": "code",
   "execution_count": 68,
   "metadata": {},
   "outputs": [
    {
     "data": {
      "text/html": [
       "<div>\n",
       "<style scoped>\n",
       "    .dataframe tbody tr th:only-of-type {\n",
       "        vertical-align: middle;\n",
       "    }\n",
       "\n",
       "    .dataframe tbody tr th {\n",
       "        vertical-align: top;\n",
       "    }\n",
       "\n",
       "    .dataframe thead th {\n",
       "        text-align: right;\n",
       "    }\n",
       "</style>\n",
       "<table border=\"1\" class=\"dataframe\">\n",
       "  <thead>\n",
       "    <tr style=\"text-align: right;\">\n",
       "      <th></th>\n",
       "      <th>Planet</th>\n",
       "      <th>Type</th>\n",
       "      <th>Mass</th>\n",
       "      <th>Radius</th>\n",
       "      <th>Flux</th>\n",
       "      <th>Tsurf</th>\n",
       "      <th>Period</th>\n",
       "      <th>Distance</th>\n",
       "      <th>ESI</th>\n",
       "      <th>cat</th>\n",
       "    </tr>\n",
       "  </thead>\n",
       "  <tbody>\n",
       "    <tr>\n",
       "      <th>0</th>\n",
       "      <td>Teegarden's Star b</td>\n",
       "      <td>M-Warm Terran</td>\n",
       "      <td>≥ 1.05</td>\n",
       "      <td>~ 1.02</td>\n",
       "      <td>1.15</td>\n",
       "      <td>~ 298</td>\n",
       "      <td>4.9</td>\n",
       "      <td>12.0</td>\n",
       "      <td>0.95</td>\n",
       "      <td>Conservative</td>\n",
       "    </tr>\n",
       "    <tr>\n",
       "      <th>1</th>\n",
       "      <td>TOI-700 d</td>\n",
       "      <td>M-Warm Terran</td>\n",
       "      <td>~ 1.57</td>\n",
       "      <td>1.14</td>\n",
       "      <td>0.87</td>\n",
       "      <td>~ 278</td>\n",
       "      <td>37.4</td>\n",
       "      <td>101.0</td>\n",
       "      <td>0.93</td>\n",
       "      <td>Conservative</td>\n",
       "    </tr>\n",
       "    <tr>\n",
       "      <th>2</th>\n",
       "      <td>Kepler-1649 c</td>\n",
       "      <td>M-Warm Terran</td>\n",
       "      <td>~ 1.20</td>\n",
       "      <td>1.06</td>\n",
       "      <td>1.23</td>\n",
       "      <td>~ 303</td>\n",
       "      <td>19.5</td>\n",
       "      <td>301.0</td>\n",
       "      <td>0.92</td>\n",
       "      <td>Conservative</td>\n",
       "    </tr>\n",
       "    <tr>\n",
       "      <th>3</th>\n",
       "      <td>TRAPPIST-1 d</td>\n",
       "      <td>M-Warm Subterran</td>\n",
       "      <td>0.39</td>\n",
       "      <td>0.78</td>\n",
       "      <td>1.12</td>\n",
       "      <td>~ 296</td>\n",
       "      <td>4.0</td>\n",
       "      <td>41.0</td>\n",
       "      <td>0.91</td>\n",
       "      <td>Conservative</td>\n",
       "    </tr>\n",
       "    <tr>\n",
       "      <th>4</th>\n",
       "      <td>LP 890-9 c</td>\n",
       "      <td>M-Warm Terran</td>\n",
       "      <td>—</td>\n",
       "      <td>1.37</td>\n",
       "      <td>0.91</td>\n",
       "      <td>~ 281</td>\n",
       "      <td>8.5</td>\n",
       "      <td>106.0</td>\n",
       "      <td>0.89</td>\n",
       "      <td>Conservative</td>\n",
       "    </tr>\n",
       "  </tbody>\n",
       "</table>\n",
       "</div>"
      ],
      "text/plain": [
       "               Planet              Type    Mass  Radius  Flux  Tsurf  Period  \\\n",
       "0  Teegarden's Star b     M-Warm Terran  ≥ 1.05  ~ 1.02  1.15  ~ 298     4.9   \n",
       "1           TOI-700 d     M-Warm Terran  ~ 1.57    1.14  0.87  ~ 278    37.4   \n",
       "2       Kepler-1649 c     M-Warm Terran  ~ 1.20    1.06  1.23  ~ 303    19.5   \n",
       "3        TRAPPIST-1 d  M-Warm Subterran    0.39    0.78  1.12  ~ 296     4.0   \n",
       "4          LP 890-9 c     M-Warm Terran       —    1.37  0.91  ~ 281     8.5   \n",
       "\n",
       "   Distance   ESI           cat  \n",
       "0      12.0  0.95  Conservative  \n",
       "1     101.0  0.93  Conservative  \n",
       "2     301.0  0.92  Conservative  \n",
       "3      41.0  0.91  Conservative  \n",
       "4     106.0  0.89  Conservative  "
      ]
     },
     "execution_count": 68,
     "metadata": {},
     "output_type": "execute_result"
    }
   ],
   "source": [
    "phe.head()"
   ]
  },
  {
   "cell_type": "code",
   "execution_count": 69,
   "metadata": {},
   "outputs": [
    {
     "data": {
      "text/html": [
       "<div>\n",
       "<style scoped>\n",
       "    .dataframe tbody tr th:only-of-type {\n",
       "        vertical-align: middle;\n",
       "    }\n",
       "\n",
       "    .dataframe tbody tr th {\n",
       "        vertical-align: top;\n",
       "    }\n",
       "\n",
       "    .dataframe thead th {\n",
       "        text-align: right;\n",
       "    }\n",
       "</style>\n",
       "<table border=\"1\" class=\"dataframe\">\n",
       "  <thead>\n",
       "    <tr style=\"text-align: right;\">\n",
       "      <th></th>\n",
       "      <th>THZC</th>\n",
       "      <th>TEQA</th>\n",
       "      <th>TEQC</th>\n",
       "      <th>OHZOUT</th>\n",
       "      <th>TEQB</th>\n",
       "      <th>CHZOUT</th>\n",
       "      <th>TEQD</th>\n",
       "      <th>PLANET</th>\n",
       "      <th>THZO</th>\n",
       "      <th>OHZIN</th>\n",
       "      <th>PERIOD</th>\n",
       "      <th>MASS</th>\n",
       "      <th>CHZIN</th>\n",
       "      <th>RADIUS</th>\n",
       "      <th>ECC</th>\n",
       "      <th>Planet</th>\n",
       "      <th>cat</th>\n",
       "    </tr>\n",
       "  </thead>\n",
       "  <tbody>\n",
       "    <tr>\n",
       "      <th>0</th>\n",
       "      <td>0.0</td>\n",
       "      <td>2373.9</td>\n",
       "      <td>2258.0</td>\n",
       "      <td>1.405</td>\n",
       "      <td>1996.2</td>\n",
       "      <td>1.332</td>\n",
       "      <td>1898.8</td>\n",
       "      <td>55 Cnc e</td>\n",
       "      <td>0.0</td>\n",
       "      <td>0.585</td>\n",
       "      <td>0.7</td>\n",
       "      <td>0.025</td>\n",
       "      <td>0.741</td>\n",
       "      <td>0.167</td>\n",
       "      <td>0.05</td>\n",
       "      <td>NaN</td>\n",
       "      <td>no</td>\n",
       "    </tr>\n",
       "    <tr>\n",
       "      <th>1</th>\n",
       "      <td>0.0</td>\n",
       "      <td>650.3</td>\n",
       "      <td>650.3</td>\n",
       "      <td>1.904</td>\n",
       "      <td>546.8</td>\n",
       "      <td>1.805</td>\n",
       "      <td>546.8</td>\n",
       "      <td>BD+20 594 b</td>\n",
       "      <td>0.0</td>\n",
       "      <td>0.808</td>\n",
       "      <td>41.7</td>\n",
       "      <td>0.070</td>\n",
       "      <td>1.023</td>\n",
       "      <td>0.230</td>\n",
       "      <td>0.00</td>\n",
       "      <td>NaN</td>\n",
       "      <td>no</td>\n",
       "    </tr>\n",
       "    <tr>\n",
       "      <th>2</th>\n",
       "      <td>0.0</td>\n",
       "      <td>4.5</td>\n",
       "      <td>4.5</td>\n",
       "      <td>0.085</td>\n",
       "      <td>3.8</td>\n",
       "      <td>0.081</td>\n",
       "      <td>3.8</td>\n",
       "      <td>CFHTWIR-Oph 98 b</td>\n",
       "      <td>0.0</td>\n",
       "      <td>0.031</td>\n",
       "      <td>8040000.0</td>\n",
       "      <td>7.800</td>\n",
       "      <td>0.040</td>\n",
       "      <td>1.860</td>\n",
       "      <td>0.00</td>\n",
       "      <td>NaN</td>\n",
       "      <td>no</td>\n",
       "    </tr>\n",
       "    <tr>\n",
       "      <th>3</th>\n",
       "      <td>0.0</td>\n",
       "      <td>1161.5</td>\n",
       "      <td>643.7</td>\n",
       "      <td>1.147</td>\n",
       "      <td>976.7</td>\n",
       "      <td>1.087</td>\n",
       "      <td>541.3</td>\n",
       "      <td>CoRoT-10 b</td>\n",
       "      <td>0.0</td>\n",
       "      <td>0.476</td>\n",
       "      <td>13.2</td>\n",
       "      <td>2.750</td>\n",
       "      <td>0.603</td>\n",
       "      <td>0.970</td>\n",
       "      <td>0.53</td>\n",
       "      <td>NaN</td>\n",
       "      <td>no</td>\n",
       "    </tr>\n",
       "    <tr>\n",
       "      <th>4</th>\n",
       "      <td>0.0</td>\n",
       "      <td>2069.8</td>\n",
       "      <td>2069.8</td>\n",
       "      <td>2.852</td>\n",
       "      <td>1740.5</td>\n",
       "      <td>2.704</td>\n",
       "      <td>1740.5</td>\n",
       "      <td>CoRoT-11 b</td>\n",
       "      <td>0.0</td>\n",
       "      <td>1.228</td>\n",
       "      <td>3.0</td>\n",
       "      <td>2.330</td>\n",
       "      <td>1.555</td>\n",
       "      <td>1.430</td>\n",
       "      <td>0.00</td>\n",
       "      <td>NaN</td>\n",
       "      <td>no</td>\n",
       "    </tr>\n",
       "  </tbody>\n",
       "</table>\n",
       "</div>"
      ],
      "text/plain": [
       "   THZC    TEQA    TEQC  OHZOUT    TEQB  CHZOUT    TEQD            PLANET  \\\n",
       "0   0.0  2373.9  2258.0   1.405  1996.2   1.332  1898.8          55 Cnc e   \n",
       "1   0.0   650.3   650.3   1.904   546.8   1.805   546.8       BD+20 594 b   \n",
       "2   0.0     4.5     4.5   0.085     3.8   0.081     3.8  CFHTWIR-Oph 98 b   \n",
       "3   0.0  1161.5   643.7   1.147   976.7   1.087   541.3        CoRoT-10 b   \n",
       "4   0.0  2069.8  2069.8   2.852  1740.5   2.704  1740.5        CoRoT-11 b   \n",
       "\n",
       "   THZO  OHZIN     PERIOD   MASS  CHZIN  RADIUS   ECC Planet cat  \n",
       "0   0.0  0.585        0.7  0.025  0.741   0.167  0.05    NaN  no  \n",
       "1   0.0  0.808       41.7  0.070  1.023   0.230  0.00    NaN  no  \n",
       "2   0.0  0.031  8040000.0  7.800  0.040   1.860  0.00    NaN  no  \n",
       "3   0.0  0.476       13.2  2.750  0.603   0.970  0.53    NaN  no  \n",
       "4   0.0  1.228        3.0  2.330  1.555   1.430  0.00    NaN  no  "
      ]
     },
     "execution_count": 69,
     "metadata": {},
     "output_type": "execute_result"
    }
   ],
   "source": [
    "# Combine hz with phe by planet name,also only keep cat as phe's column \n",
    "ex_columns=['OMEGA']\n",
    "\n",
    "hz_cat=pd.merge(hz_nona[list(set(hz_nona.columns)-set(ex_columns))], phe[['Planet','cat']], left_on='PLANET', right_on='Planet', how='left')\n",
    "\n",
    "# fill the blank of cat with 'no'\n",
    "hz_cat.cat.fillna('no', inplace=True)\n",
    "\n",
    "hz_cat.head()   "
   ]
  },
  {
   "cell_type": "code",
   "execution_count": 70,
   "metadata": {},
   "outputs": [
    {
     "data": {
      "text/plain": [
       "THZC      10\n",
       "TEQA      10\n",
       "TEQC      10\n",
       "OHZOUT    10\n",
       "TEQB      10\n",
       "CHZOUT    10\n",
       "TEQD      10\n",
       "PLANET    10\n",
       "THZO      10\n",
       "OHZIN     10\n",
       "PERIOD    10\n",
       "MASS      10\n",
       "CHZIN     10\n",
       "RADIUS    10\n",
       "ECC       10\n",
       "Planet    10\n",
       "cat       10\n",
       "dtype: int64"
      ]
     },
     "execution_count": 70,
     "metadata": {},
     "output_type": "execute_result"
    }
   ],
   "source": [
    "hz_cat[hz_cat.cat!='no'].count()"
   ]
  },
  {
   "attachments": {},
   "cell_type": "markdown",
   "metadata": {},
   "source": [
    "##### 1.5 Normalize the features for dimensionality reduction and coming algorithms"
   ]
  },
  {
   "cell_type": "code",
   "execution_count": 71,
   "metadata": {},
   "outputs": [],
   "source": [
    "# Normalizing of hz_cat's column\n",
    "import pandas as pd\n",
    "from sklearn.preprocessing import MinMaxScaler\n",
    "\n",
    "def normalize_dataframe(df):\n",
    "    # Separate numeric and non-numeric columns\n",
    "    numeric_cols = df.select_dtypes(include=['int', 'float']).columns\n",
    "    non_numeric_cols = df.select_dtypes(exclude=['int', 'float']).columns\n",
    "\n",
    "    # Normalize numeric columns using Min-Max normalization\n",
    "    scaler = MinMaxScaler()\n",
    "    normalized_numeric = scaler.fit_transform(df[numeric_cols])\n",
    "    normalized_df_numeric = pd.DataFrame(normalized_numeric, columns=numeric_cols)\n",
    "\n",
    "    # Combine normalized numeric columns with non-numeric columns\n",
    "    normalized_df = pd.concat([normalized_df_numeric, df[non_numeric_cols]], axis=1)\n",
    "\n",
    "    return normalized_df"
   ]
  },
  {
   "cell_type": "code",
   "execution_count": 72,
   "metadata": {},
   "outputs": [],
   "source": [
    "normalized_hz_cat = normalize_dataframe(hz_cat)"
   ]
  },
  {
   "cell_type": "code",
   "execution_count": 73,
   "metadata": {},
   "outputs": [
    {
     "data": {
      "text/html": [
       "<div>\n",
       "<style scoped>\n",
       "    .dataframe tbody tr th:only-of-type {\n",
       "        vertical-align: middle;\n",
       "    }\n",
       "\n",
       "    .dataframe tbody tr th {\n",
       "        vertical-align: top;\n",
       "    }\n",
       "\n",
       "    .dataframe thead th {\n",
       "        text-align: right;\n",
       "    }\n",
       "</style>\n",
       "<table border=\"1\" class=\"dataframe\">\n",
       "  <thead>\n",
       "    <tr style=\"text-align: right;\">\n",
       "      <th></th>\n",
       "      <th>THZC</th>\n",
       "      <th>TEQA</th>\n",
       "      <th>TEQC</th>\n",
       "      <th>OHZOUT</th>\n",
       "      <th>TEQB</th>\n",
       "      <th>CHZOUT</th>\n",
       "      <th>TEQD</th>\n",
       "      <th>THZO</th>\n",
       "      <th>OHZIN</th>\n",
       "      <th>PERIOD</th>\n",
       "      <th>MASS</th>\n",
       "      <th>CHZIN</th>\n",
       "      <th>RADIUS</th>\n",
       "      <th>ECC</th>\n",
       "      <th>PLANET</th>\n",
       "      <th>Planet</th>\n",
       "      <th>cat</th>\n",
       "    </tr>\n",
       "  </thead>\n",
       "  <tbody>\n",
       "    <tr>\n",
       "      <th>0</th>\n",
       "      <td>0.0</td>\n",
       "      <td>0.493831</td>\n",
       "      <td>0.469675</td>\n",
       "      <td>0.077432</td>\n",
       "      <td>0.493828</td>\n",
       "      <td>0.077433</td>\n",
       "      <td>0.469687</td>\n",
       "      <td>0.0</td>\n",
       "      <td>0.076689</td>\n",
       "      <td>4.975125e-08</td>\n",
       "      <td>0.000881</td>\n",
       "      <td>0.076610</td>\n",
       "      <td>0.067085</td>\n",
       "      <td>0.053763</td>\n",
       "      <td>55 Cnc e</td>\n",
       "      <td>NaN</td>\n",
       "      <td>no</td>\n",
       "    </tr>\n",
       "    <tr>\n",
       "      <th>1</th>\n",
       "      <td>0.0</td>\n",
       "      <td>0.134598</td>\n",
       "      <td>0.134598</td>\n",
       "      <td>0.105190</td>\n",
       "      <td>0.134586</td>\n",
       "      <td>0.105180</td>\n",
       "      <td>0.134586</td>\n",
       "      <td>0.0</td>\n",
       "      <td>0.106175</td>\n",
       "      <td>5.149254e-06</td>\n",
       "      <td>0.002534</td>\n",
       "      <td>0.106043</td>\n",
       "      <td>0.097490</td>\n",
       "      <td>0.000000</td>\n",
       "      <td>BD+20 594 b</td>\n",
       "      <td>NaN</td>\n",
       "      <td>no</td>\n",
       "    </tr>\n",
       "    <tr>\n",
       "      <th>2</th>\n",
       "      <td>0.0</td>\n",
       "      <td>0.000000</td>\n",
       "      <td>0.000000</td>\n",
       "      <td>0.004005</td>\n",
       "      <td>0.000000</td>\n",
       "      <td>0.004048</td>\n",
       "      <td>0.000000</td>\n",
       "      <td>0.0</td>\n",
       "      <td>0.003438</td>\n",
       "      <td>1.000000e+00</td>\n",
       "      <td>0.286423</td>\n",
       "      <td>0.003444</td>\n",
       "      <td>0.884170</td>\n",
       "      <td>0.000000</td>\n",
       "      <td>CFHTWIR-Oph 98 b</td>\n",
       "      <td>NaN</td>\n",
       "      <td>no</td>\n",
       "    </tr>\n",
       "    <tr>\n",
       "      <th>3</th>\n",
       "      <td>0.0</td>\n",
       "      <td>0.241142</td>\n",
       "      <td>0.133222</td>\n",
       "      <td>0.063081</td>\n",
       "      <td>0.241139</td>\n",
       "      <td>0.063061</td>\n",
       "      <td>0.133223</td>\n",
       "      <td>0.0</td>\n",
       "      <td>0.062277</td>\n",
       "      <td>1.604478e-06</td>\n",
       "      <td>0.100959</td>\n",
       "      <td>0.062206</td>\n",
       "      <td>0.454633</td>\n",
       "      <td>0.569892</td>\n",
       "      <td>CoRoT-10 b</td>\n",
       "      <td>NaN</td>\n",
       "      <td>no</td>\n",
       "    </tr>\n",
       "    <tr>\n",
       "      <th>4</th>\n",
       "      <td>0.0</td>\n",
       "      <td>0.430450</td>\n",
       "      <td>0.430450</td>\n",
       "      <td>0.157924</td>\n",
       "      <td>0.430452</td>\n",
       "      <td>0.157916</td>\n",
       "      <td>0.430452</td>\n",
       "      <td>0.0</td>\n",
       "      <td>0.161708</td>\n",
       "      <td>3.358209e-07</td>\n",
       "      <td>0.085534</td>\n",
       "      <td>0.161570</td>\n",
       "      <td>0.676641</td>\n",
       "      <td>0.000000</td>\n",
       "      <td>CoRoT-11 b</td>\n",
       "      <td>NaN</td>\n",
       "      <td>no</td>\n",
       "    </tr>\n",
       "  </tbody>\n",
       "</table>\n",
       "</div>"
      ],
      "text/plain": [
       "   THZC      TEQA      TEQC    OHZOUT      TEQB    CHZOUT      TEQD  THZO  \\\n",
       "0   0.0  0.493831  0.469675  0.077432  0.493828  0.077433  0.469687   0.0   \n",
       "1   0.0  0.134598  0.134598  0.105190  0.134586  0.105180  0.134586   0.0   \n",
       "2   0.0  0.000000  0.000000  0.004005  0.000000  0.004048  0.000000   0.0   \n",
       "3   0.0  0.241142  0.133222  0.063081  0.241139  0.063061  0.133223   0.0   \n",
       "4   0.0  0.430450  0.430450  0.157924  0.430452  0.157916  0.430452   0.0   \n",
       "\n",
       "      OHZIN        PERIOD      MASS     CHZIN    RADIUS       ECC  \\\n",
       "0  0.076689  4.975125e-08  0.000881  0.076610  0.067085  0.053763   \n",
       "1  0.106175  5.149254e-06  0.002534  0.106043  0.097490  0.000000   \n",
       "2  0.003438  1.000000e+00  0.286423  0.003444  0.884170  0.000000   \n",
       "3  0.062277  1.604478e-06  0.100959  0.062206  0.454633  0.569892   \n",
       "4  0.161708  3.358209e-07  0.085534  0.161570  0.676641  0.000000   \n",
       "\n",
       "             PLANET Planet cat  \n",
       "0          55 Cnc e    NaN  no  \n",
       "1       BD+20 594 b    NaN  no  \n",
       "2  CFHTWIR-Oph 98 b    NaN  no  \n",
       "3        CoRoT-10 b    NaN  no  \n",
       "4        CoRoT-11 b    NaN  no  "
      ]
     },
     "execution_count": 73,
     "metadata": {},
     "output_type": "execute_result"
    }
   ],
   "source": [
    "normalized_hz_cat.head()"
   ]
  },
  {
   "attachments": {},
   "cell_type": "markdown",
   "metadata": {},
   "source": [
    "### 2. Data Clustering"
   ]
  },
  {
   "cell_type": "code",
   "execution_count": 74,
   "metadata": {},
   "outputs": [],
   "source": [
    "from helper import elbow_plot"
   ]
  },
  {
   "attachments": {},
   "cell_type": "markdown",
   "metadata": {},
   "source": [
    "##### 2.1  Run PCA to reduce the dimensions"
   ]
  },
  {
   "cell_type": "code",
   "execution_count": 75,
   "metadata": {},
   "outputs": [
    {
     "data": {
      "text/plain": [
       "0       0.000881\n",
       "1       0.002534\n",
       "2       0.286423\n",
       "3       0.100959\n",
       "4       0.085534\n",
       "          ...   \n",
       "998     0.267693\n",
       "999     0.052114\n",
       "1000    0.043667\n",
       "1001    0.161556\n",
       "1002    0.026002\n",
       "Name: MASS, Length: 1003, dtype: float64"
      ]
     },
     "execution_count": 75,
     "metadata": {},
     "output_type": "execute_result"
    }
   ],
   "source": [
    "normalized_hz_cat.MASS"
   ]
  },
  {
   "cell_type": "code",
   "execution_count": 76,
   "metadata": {},
   "outputs": [],
   "source": [
    "# Separate numeric and non-numeric columns\n",
    "df_num = pd.DataFrame(normalized_hz_cat[normalized_hz_cat.select_dtypes(include=['int', 'float']).columns])\n",
    "df_name = pd.DataFrame(normalized_hz_cat[['PLANET','cat']])"
   ]
  },
  {
   "cell_type": "code",
   "execution_count": 77,
   "metadata": {},
   "outputs": [],
   "source": [
    "# Clustering algorithms\n",
    "from sklearn.decomposition import PCA\n",
    "from sklearn.cluster import KMeans, MiniBatchKMeans\n",
    "from sklearn.metrics.pairwise import cosine_similarity\n",
    "\n",
    "# Using PCA to reduce the dimension to project the result to 2-d scatter plot\n",
    "pca = PCA(n_components=2)\n",
    "principalComponents = pca.fit_transform(df_num)"
   ]
  },
  {
   "cell_type": "code",
   "execution_count": 78,
   "metadata": {},
   "outputs": [],
   "source": [
    "df_pca = pd.DataFrame(data = principalComponents\n",
    "             , columns = ['principal component 1', 'principal component 2'])\n",
    "\n",
    "df_pca['planet']=df_name['PLANET']\n",
    "df_pca['cat']=df_name['cat']"
   ]
  },
  {
   "attachments": {},
   "cell_type": "markdown",
   "metadata": {},
   "source": [
    "##### 2.2 Using Kmeans to cluster the planets"
   ]
  },
  {
   "cell_type": "code",
   "execution_count": 79,
   "metadata": {},
   "outputs": [
    {
     "name": "stdout",
     "output_type": "stream",
     "text": [
      "k:  1 sse:  155.36793444204494\n",
      "k:  2 sse:  66.31504184571932\n",
      "k:  3 sse:  49.64863045141377\n",
      "k:  4 sse:  36.20233204802748\n",
      "k:  5 sse:  28.403570259893886\n",
      "k:  6 sse:  21.799217358994326\n",
      "k:  7 sse:  18.931182796263762\n",
      "k:  8 sse:  16.050765667026734\n",
      "k:  9 sse:  14.11741870938632\n",
      "k:  10 sse:  12.810493392957802\n",
      "k:  11 sse:  11.527777586921474\n",
      "k:  12 sse:  10.528305315357395\n",
      "k:  13 sse:  9.756583557061814\n",
      "k:  14 sse:  9.00523731260288\n"
     ]
    },
    {
     "data": {
      "image/png": "[encoded data removed]",
      "text/plain": [
       "<Figure size 432x288 with 1 Axes>"
      ]
     },
     "metadata": {
      "needs_background": "light"
     },
     "output_type": "display_data"
    },
    {
     "data": {
      "text/plain": [
       "array([ 6, 10,  8, ..., 13,  1,  1], dtype=int32)"
      ]
     },
     "execution_count": 79,
     "metadata": {},
     "output_type": "execute_result"
    }
   ],
   "source": [
    "# Run Elbow to find the best K\n",
    "elbow_plot(principalComponents,maxK=15)"
   ]
  },
  {
   "attachments": {},
   "cell_type": "markdown",
   "metadata": {},
   "source": [
    "Apparently, K=3 is the best one since the steepest slope is at 3."
   ]
  },
  {
   "cell_type": "code",
   "execution_count": 80,
   "metadata": {},
   "outputs": [],
   "source": [
    "def kmean_closed_planet(df_num,df_pca):\n",
    "\n",
    "    num_clusters=df_num.shape[0] // 2\n",
    "\n",
    "    while num_clusters>2:\n",
    "        clf = KMeans(n_clusters=num_clusters, \n",
    "                    max_iter=100, \n",
    "                    init='k-means++', \n",
    "                    n_init=1)\n",
    "        clf.fit_predict(df_num)\n",
    "        cluster_assignment = clf.labels_\n",
    "\n",
    "        num_clusters=num_clusters-1\n",
    "        cdf=pd.DataFrame(columns=[\"cluster_id\",\"planet\"])\n",
    "\n",
    "        for i in range(len(cluster_assignment)):\n",
    "            new_row=pd.Series(data={\"cluster_id\":cluster_assignment[i],\n",
    "                                        \"planet\":df_pca.iloc[i]['planet']\n",
    "\n",
    "                                }\n",
    "                                    )\n",
    "            cdf=pd.concat([cdf,pd.DataFrame(new_row).T],axis=0,ignore_index=True)\n",
    "            #cdf=cdf.append(new_row,ignore_index=True)\n",
    "\n",
    "        cdf.head()\n",
    "        df_k=pd.merge(df_pca, cdf, how='inner')\n",
    "        # If one cluster includes both cat=='no' and cat!='no', that means certain planets are closed to habitable one\n",
    "        df_closed=pd.DataFrame(columns=df_k.columns)\n",
    "        for cluster_id in df_k.cluster_id.unique():\n",
    "            if (len(df_k[df_k.cluster_id==cluster_id].cat.unique())>1) and \\\n",
    "            ('no' in df_k[df_k.cluster_id==cluster_id].cat.unique()):\n",
    "                df_closed=pd.concat([df_closed,df_k[df_k.cluster_id==cluster_id]],axis=0,ignore_index=True)\n",
    "        #df_closed=df_k[df_k.cluster_id.isin(df_k[df_k['cat']!='no'].cluster_id)]\n",
    "        if df_closed.empty==False:\n",
    "            return df_closed\n",
    "        else:\n",
    "            continue\n",
    "    return none\n"
   ]
  },
  {
   "cell_type": "code",
   "execution_count": 81,
   "metadata": {},
   "outputs": [],
   "source": [
    "df_k_closed=kmean_closed_planet(df_num,df_pca)"
   ]
  },
  {
   "cell_type": "code",
   "execution_count": 82,
   "metadata": {},
   "outputs": [
    {
     "data": {
      "text/html": [
       "<div>\n",
       "<style scoped>\n",
       "    .dataframe tbody tr th:only-of-type {\n",
       "        vertical-align: middle;\n",
       "    }\n",
       "\n",
       "    .dataframe tbody tr th {\n",
       "        vertical-align: top;\n",
       "    }\n",
       "\n",
       "    .dataframe thead th {\n",
       "        text-align: right;\n",
       "    }\n",
       "</style>\n",
       "<table border=\"1\" class=\"dataframe\">\n",
       "  <thead>\n",
       "    <tr style=\"text-align: right;\">\n",
       "      <th></th>\n",
       "      <th>principal component 1</th>\n",
       "      <th>principal component 2</th>\n",
       "      <th>planet</th>\n",
       "      <th>cat</th>\n",
       "      <th>cluster_id</th>\n",
       "    </tr>\n",
       "  </thead>\n",
       "  <tbody>\n",
       "    <tr>\n",
       "      <th>0</th>\n",
       "      <td>-0.646158</td>\n",
       "      <td>0.785401</td>\n",
       "      <td>Kepler-1661 b</td>\n",
       "      <td>no</td>\n",
       "      <td>195</td>\n",
       "    </tr>\n",
       "    <tr>\n",
       "      <th>1</th>\n",
       "      <td>-0.735275</td>\n",
       "      <td>0.710277</td>\n",
       "      <td>Kepler-62 f</td>\n",
       "      <td>Conservative</td>\n",
       "      <td>195</td>\n",
       "    </tr>\n",
       "  </tbody>\n",
       "</table>\n",
       "</div>"
      ],
      "text/plain": [
       "   principal component 1  principal component 2         planet           cat  \\\n",
       "0              -0.646158               0.785401  Kepler-1661 b            no   \n",
       "1              -0.735275               0.710277    Kepler-62 f  Conservative   \n",
       "\n",
       "  cluster_id  \n",
       "0        195  \n",
       "1        195  "
      ]
     },
     "execution_count": 82,
     "metadata": {},
     "output_type": "execute_result"
    }
   ],
   "source": [
    "df_k_closed.head()"
   ]
  },
  {
   "attachments": {},
   "cell_type": "markdown",
   "metadata": {},
   "source": [
    "Visualizing the clustering"
   ]
  },
  {
   "cell_type": "code",
   "execution_count": 83,
   "metadata": {},
   "outputs": [
    {
     "data": {
      "text/html": [
       "\n",
       "<div id=\"altair-viz-065341c9251c4542afb7f1032428b724\"></div>\n",
       "<script type=\"text/javascript\">\n",
       "  var VEGA_DEBUG = (typeof VEGA_DEBUG == \"undefined\") ? {} : VEGA_DEBUG;\n",
       "  (function(spec, embedOpt){\n",
       "    let outputDiv = document.currentScript.previousElementSibling;\n",
       "    if (outputDiv.id !== \"altair-viz-065341c9251c4542afb7f1032428b724\") {\n",
       "      outputDiv = document.getElementById(\"altair-viz-065341c9251c4542afb7f1032428b724\");\n",
       "    }\n",
       "    const paths = {\n",
       "      \"vega\": \"https://cdn.jsdelivr.net/npm//vega@5?noext\",\n",
       "      \"vega-lib\": \"https://cdn.jsdelivr.net/npm//vega-lib?noext\",\n",
       "      \"vega-lite\": \"https://cdn.jsdelivr.net/npm//vega-lite@4.17.0?noext\",\n",
       "      \"vega-embed\": \"https://cdn.jsdelivr.net/npm//vega-embed@6?noext\",\n",
       "    };\n",
       "\n",
       "    function maybeLoadScript(lib, version) {\n",
       "      var key = `${lib.replace(\"-\", \"\")}_version`;\n",
       "      return (VEGA_DEBUG[key] == version) ?\n",
       "        Promise.resolve(paths[lib]) :\n",
       "        new Promise(function(resolve, reject) {\n",
       "          var s = document.createElement('script');\n",
       "          document.getElementsByTagName(\"head\")[0].appendChild(s);\n",
       "          s.async = true;\n",
       "          s.onload = () => {\n",
       "            VEGA_DEBUG[key] = version;\n",
       "            return resolve(paths[lib]);\n",
       "          };\n",
       "          s.onerror = () => reject(`Error loading script: ${paths[lib]}`);\n",
       "          s.src = paths[lib];\n",
       "        });\n",
       "    }\n",
       "\n",
       "    function showError(err) {\n",
       "      outputDiv.innerHTML = `<div class=\"error\" style=\"color:red;\">${err}</div>`;\n",
       "      throw err;\n",
       "    }\n",
       "\n",
       "    function displayChart(vegaEmbed) {\n",
       "      vegaEmbed(outputDiv, spec, embedOpt)\n",
       "        .catch(err => showError(`Javascript Error: ${err.message}<br>This usually means there's a typo in your chart specification. See the javascript console for the full traceback.`));\n",
       "    }\n",
       "\n",
       "    if(typeof define === \"function\" && define.amd) {\n",
       "      requirejs.config({paths});\n",
       "      require([\"vega-embed\"], displayChart, err => showError(`Error loading script: ${err.message}`));\n",
       "    } else {\n",
       "      maybeLoadScript(\"vega\", \"5\")\n",
       "        .then(() => maybeLoadScript(\"vega-lite\", \"4.17.0\"))\n",
       "        .then(() => maybeLoadScript(\"vega-embed\", \"6\"))\n",
       "        .catch(showError)\n",
       "        .then(() => displayChart(vegaEmbed));\n",
       "    }\n",
       "  })({\"config\": {\"view\": {\"continuousWidth\": 400, \"continuousHeight\": 300}}, \"data\": {\"name\": \"data-4eee5ecba11899218d60db9acb49481d\"}, \"mark\": {\"type\": \"point\", \"filled\": true, \"size\": 60, \"stroke\": \"black\"}, \"encoding\": {\"color\": {\"field\": \"cluster_id\", \"scale\": {\"range\": [\"green\", \"yellow\", \"red\"]}, \"type\": \"nominal\"}, \"shape\": {\"field\": \"cat\", \"type\": \"nominal\"}, \"tooltip\": [{\"field\": \"cluster_id\", \"type\": \"quantitative\"}, {\"field\": \"cat\", \"type\": \"nominal\"}, {\"field\": \"planet\", \"type\": \"nominal\"}], \"x\": {\"field\": \"principal component 1\", \"type\": \"quantitative\"}, \"y\": {\"field\": \"principal component 2\", \"type\": \"quantitative\"}}, \"height\": 400, \"selection\": {\"selector001\": {\"type\": \"interval\", \"bind\": \"scales\", \"encodings\": [\"x\", \"y\"]}}, \"title\": \"PCA & Kmeans\", \"width\": 500, \"$schema\": \"https://vega.github.io/schema/vega-lite/v4.17.0.json\", \"datasets\": {\"data-4eee5ecba11899218d60db9acb49481d\": [{\"principal component 1\": -0.6461575762306659, \"principal component 2\": 0.7854012739221705, \"planet\": \"Kepler-1661 b\", \"cat\": \"no\", \"cluster_id\": 195}, {\"principal component 1\": -0.735274721320406, \"principal component 2\": 0.7102774496246288, \"planet\": \"Kepler-62 f\", \"cat\": \"Conservative\", \"cluster_id\": 195}]}}, {\"mode\": \"vega-lite\"});\n",
       "</script>"
      ],
      "text/plain": [
       "alt.Chart(...)"
      ]
     },
     "execution_count": 83,
     "metadata": {},
     "output_type": "execute_result"
    }
   ],
   "source": [
    "import altair as alt\n",
    "alt.Chart(df_k_closed).mark_point(size=60,filled=True,stroke='black').encode(\n",
    "    x='principal component 1',\n",
    "    y='principal component 2',\n",
    "    color=alt.Color('cluster_id:N',scale=alt.Scale(range=['green','yellow','red'])),\n",
    "    shape=alt.Shape('cat:N'),\n",
    "    tooltip=['cluster_id','cat','planet']\n",
    ").properties(title='PCA & Kmeans',height=400,width=500).interactive()"
   ]
  },
  {
   "attachments": {},
   "cell_type": "markdown",
   "metadata": {},
   "source": [
    "The above chart shows which unhabitable planet(s) is closed to the habitable planets.\n",
    "This could be the candidates for further verification to be converted to the habitable ones.\n",
    "\n",
    "Let's change to another dimensionality reduction and clustering algorithm to look for more candidates."
   ]
  },
  {
   "attachments": {},
   "cell_type": "markdown",
   "metadata": {},
   "source": [
    "##### 2.3 Using UMAP + DBSCAN to cluster the planets"
   ]
  },
  {
   "cell_type": "code",
   "execution_count": 84,
   "metadata": {},
   "outputs": [],
   "source": [
    "import umap\n",
    "umap_embeddings = umap.UMAP(n_neighbors=30, \n",
    "                            n_components=2, \n",
    "                            metric='cosine').fit_transform(df_num)"
   ]
  },
  {
   "attachments": {},
   "cell_type": "markdown",
   "metadata": {},
   "source": [
    "Looking for the best cluster size"
   ]
  },
  {
   "cell_type": "code",
   "execution_count": 85,
   "metadata": {},
   "outputs": [
    {
     "data": {
      "text/html": [
       "\n",
       "<div id=\"altair-viz-c08b2571a58c403e8ed5a8c8b2920c16\"></div>\n",
       "<script type=\"text/javascript\">\n",
       "  var VEGA_DEBUG = (typeof VEGA_DEBUG == \"undefined\") ? {} : VEGA_DEBUG;\n",
       "  (function(spec, embedOpt){\n",
       "    let outputDiv = document.currentScript.previousElementSibling;\n",
       "    if (outputDiv.id !== \"altair-viz-c08b2571a58c403e8ed5a8c8b2920c16\") {\n",
       "      outputDiv = document.getElementById(\"altair-viz-c08b2571a58c403e8ed5a8c8b2920c16\");\n",
       "    }\n",
       "    const paths = {\n",
       "      \"vega\": \"https://cdn.jsdelivr.net/npm//vega@5?noext\",\n",
       "      \"vega-lib\": \"https://cdn.jsdelivr.net/npm//vega-lib?noext\",\n",
       "      \"vega-lite\": \"https://cdn.jsdelivr.net/npm//vega-lite@4.17.0?noext\",\n",
       "      \"vega-embed\": \"https://cdn.jsdelivr.net/npm//vega-embed@6?noext\",\n",
       "    };\n",
       "\n",
       "    function maybeLoadScript(lib, version) {\n",
       "      var key = `${lib.replace(\"-\", \"\")}_version`;\n",
       "      return (VEGA_DEBUG[key] == version) ?\n",
       "        Promise.resolve(paths[lib]) :\n",
       "        new Promise(function(resolve, reject) {\n",
       "          var s = document.createElement('script');\n",
       "          document.getElementsByTagName(\"head\")[0].appendChild(s);\n",
       "          s.async = true;\n",
       "          s.onload = () => {\n",
       "            VEGA_DEBUG[key] = version;\n",
       "            return resolve(paths[lib]);\n",
       "          };\n",
       "          s.onerror = () => reject(`Error loading script: ${paths[lib]}`);\n",
       "          s.src = paths[lib];\n",
       "        });\n",
       "    }\n",
       "\n",
       "    function showError(err) {\n",
       "      outputDiv.innerHTML = `<div class=\"error\" style=\"color:red;\">${err}</div>`;\n",
       "      throw err;\n",
       "    }\n",
       "\n",
       "    function displayChart(vegaEmbed) {\n",
       "      vegaEmbed(outputDiv, spec, embedOpt)\n",
       "        .catch(err => showError(`Javascript Error: ${err.message}<br>This usually means there's a typo in your chart specification. See the javascript console for the full traceback.`));\n",
       "    }\n",
       "\n",
       "    if(typeof define === \"function\" && define.amd) {\n",
       "      requirejs.config({paths});\n",
       "      require([\"vega-embed\"], displayChart, err => showError(`Error loading script: ${err.message}`));\n",
       "    } else {\n",
       "      maybeLoadScript(\"vega\", \"5\")\n",
       "        .then(() => maybeLoadScript(\"vega-lite\", \"4.17.0\"))\n",
       "        .then(() => maybeLoadScript(\"vega-embed\", \"6\"))\n",
       "        .catch(showError)\n",
       "        .then(() => displayChart(vegaEmbed));\n",
       "    }\n",
       "  })({\"config\": {\"view\": {\"continuousWidth\": 400, \"continuousHeight\": 300}}, \"data\": {\"name\": \"data-688b9693ebaacecb6539254d5011b9bd\"}, \"mark\": \"line\", \"encoding\": {\"tooltip\": [{\"field\": \"Cluster Size\", \"type\": \"quantitative\"}, {\"field\": \"Silhouette Score\", \"type\": \"quantitative\"}], \"x\": {\"field\": \"Cluster Size\", \"type\": \"quantitative\"}, \"y\": {\"field\": \"Silhouette Score\", \"type\": \"quantitative\"}}, \"height\": 400, \"title\": \"Silhousette Scores\", \"width\": 500, \"$schema\": \"https://vega.github.io/schema/vega-lite/v4.17.0.json\", \"datasets\": {\"data-688b9693ebaacecb6539254d5011b9bd\": [{\"Cluster Size\": 2, \"Silhouette Score\": 0.2758297920227051}, {\"Cluster Size\": 3, \"Silhouette Score\": 0.2829092741012573}, {\"Cluster Size\": 4, \"Silhouette Score\": 0.22748742997646332}, {\"Cluster Size\": 5, \"Silhouette Score\": 0.23030275106430054}, {\"Cluster Size\": 6, \"Silhouette Score\": 0.2602601945400238}, {\"Cluster Size\": 7, \"Silhouette Score\": 0.24521659314632416}, {\"Cluster Size\": 8, \"Silhouette Score\": 0.2266518622636795}, {\"Cluster Size\": 9, \"Silhouette Score\": 0.22164559364318848}, {\"Cluster Size\": 10, \"Silhouette Score\": 0.20138704776763916}, {\"Cluster Size\": 11, \"Silhouette Score\": -0.0939880982041359}, {\"Cluster Size\": 12, \"Silhouette Score\": 0.2024611532688141}, {\"Cluster Size\": 13, \"Silhouette Score\": 0.21245956420898438}, {\"Cluster Size\": 14, \"Silhouette Score\": 0.24704228341579437}, {\"Cluster Size\": 15, \"Silhouette Score\": 0.23757405579090118}, {\"Cluster Size\": 16, \"Silhouette Score\": 0.23679794371128082}, {\"Cluster Size\": 17, \"Silhouette Score\": 0.24154381453990936}, {\"Cluster Size\": 18, \"Silhouette Score\": 0.21960662305355072}, {\"Cluster Size\": 19, \"Silhouette Score\": 0.19970783591270447}, {\"Cluster Size\": 20, \"Silhouette Score\": 0.20377615094184875}, {\"Cluster Size\": 21, \"Silhouette Score\": 0.1766660213470459}, {\"Cluster Size\": 22, \"Silhouette Score\": 0.17272968590259552}, {\"Cluster Size\": 23, \"Silhouette Score\": 0.15719494223594666}, {\"Cluster Size\": 24, \"Silhouette Score\": 0.1497267186641693}, {\"Cluster Size\": 25, \"Silhouette Score\": 0.25624144077301025}, {\"Cluster Size\": 26, \"Silhouette Score\": 0.2389611303806305}, {\"Cluster Size\": 27, \"Silhouette Score\": 0.23048943281173706}, {\"Cluster Size\": 28, \"Silhouette Score\": 0.2178041636943817}, {\"Cluster Size\": 29, \"Silhouette Score\": 0.2621940076351166}, {\"Cluster Size\": 30, \"Silhouette Score\": 0.2580651640892029}, {\"Cluster Size\": 31, \"Silhouette Score\": 0.24650335311889648}, {\"Cluster Size\": 32, \"Silhouette Score\": 0.24417567253112793}, {\"Cluster Size\": 33, \"Silhouette Score\": 0.23542378842830658}, {\"Cluster Size\": 34, \"Silhouette Score\": 0.23980975151062012}, {\"Cluster Size\": 35, \"Silhouette Score\": 0.23199020326137543}, {\"Cluster Size\": 36, \"Silhouette Score\": 0.23138858377933502}, {\"Cluster Size\": 37, \"Silhouette Score\": 0.2353515774011612}, {\"Cluster Size\": 38, \"Silhouette Score\": 0.2201519012451172}, {\"Cluster Size\": 39, \"Silhouette Score\": 0.23614858090877533}, {\"Cluster Size\": 40, \"Silhouette Score\": 0.22833842039108276}, {\"Cluster Size\": 41, \"Silhouette Score\": 0.23213626444339752}, {\"Cluster Size\": 42, \"Silhouette Score\": 0.39123496413230896}, {\"Cluster Size\": 43, \"Silhouette Score\": 0.212763249874115}, {\"Cluster Size\": 44, \"Silhouette Score\": 0.22794507443904877}, {\"Cluster Size\": 45, \"Silhouette Score\": 0.3825719356536865}, {\"Cluster Size\": 46, \"Silhouette Score\": 0.37858155369758606}, {\"Cluster Size\": 47, \"Silhouette Score\": 0.37319743633270264}, {\"Cluster Size\": 48, \"Silhouette Score\": 0.20669694244861603}, {\"Cluster Size\": 49, \"Silhouette Score\": 0.23318958282470703}, {\"Cluster Size\": 50, \"Silhouette Score\": 0.18528150022029877}, {\"Cluster Size\": 51, \"Silhouette Score\": 0.17004548013210297}, {\"Cluster Size\": 52, \"Silhouette Score\": 0.16114309430122375}, {\"Cluster Size\": 53, \"Silhouette Score\": 0.17547285556793213}, {\"Cluster Size\": 54, \"Silhouette Score\": 0.2563508152961731}, {\"Cluster Size\": 55, \"Silhouette Score\": 0.25297877192497253}, {\"Cluster Size\": 56, \"Silhouette Score\": 0.24760369956493378}, {\"Cluster Size\": 57, \"Silhouette Score\": 0.2428371012210846}, {\"Cluster Size\": 58, \"Silhouette Score\": 0.23943327367305756}, {\"Cluster Size\": 59, \"Silhouette Score\": 0.2292964905500412}, {\"Cluster Size\": 60, \"Silhouette Score\": 0.35194385051727295}, {\"Cluster Size\": 61, \"Silhouette Score\": 0.3948575556278229}, {\"Cluster Size\": 62, \"Silhouette Score\": 0.3560098111629486}, {\"Cluster Size\": 63, \"Silhouette Score\": 0.25250566005706787}, {\"Cluster Size\": 64, \"Silhouette Score\": 0.255697637796402}, {\"Cluster Size\": 65, \"Silhouette Score\": 0.24567148089408875}, {\"Cluster Size\": 66, \"Silhouette Score\": 0.27453359961509705}, {\"Cluster Size\": 67, \"Silhouette Score\": 0.277487188577652}, {\"Cluster Size\": 68, \"Silhouette Score\": 0.2838950753211975}, {\"Cluster Size\": 69, \"Silhouette Score\": 0.24585139751434326}, {\"Cluster Size\": 70, \"Silhouette Score\": 0.23722819983959198}, {\"Cluster Size\": 71, \"Silhouette Score\": 0.21993067860603333}, {\"Cluster Size\": 72, \"Silhouette Score\": 0.23810704052448273}, {\"Cluster Size\": 73, \"Silhouette Score\": 0.2362794429063797}, {\"Cluster Size\": 74, \"Silhouette Score\": 0.2504939138889313}, {\"Cluster Size\": 75, \"Silhouette Score\": 0.23479707539081573}, {\"Cluster Size\": 76, \"Silhouette Score\": 0.21788649260997772}, {\"Cluster Size\": 77, \"Silhouette Score\": 0.2859031558036804}, {\"Cluster Size\": 78, \"Silhouette Score\": 0.2778986692428589}, {\"Cluster Size\": 79, \"Silhouette Score\": 0.2683919072151184}, {\"Cluster Size\": 80, \"Silhouette Score\": 0.26092761754989624}, {\"Cluster Size\": 81, \"Silhouette Score\": 0.2515735328197479}, {\"Cluster Size\": 82, \"Silhouette Score\": 0.21418553590774536}, {\"Cluster Size\": 83, \"Silhouette Score\": 0.21499571204185486}, {\"Cluster Size\": 84, \"Silhouette Score\": 0.20061957836151123}, {\"Cluster Size\": 85, \"Silhouette Score\": 0.35487857460975647}, {\"Cluster Size\": 86, \"Silhouette Score\": 0.17890478670597076}, {\"Cluster Size\": 87, \"Silhouette Score\": 0.35852286219596863}, {\"Cluster Size\": 88, \"Silhouette Score\": 0.35209158062934875}, {\"Cluster Size\": 89, \"Silhouette Score\": 0.18251866102218628}, {\"Cluster Size\": 90, \"Silhouette Score\": 0.19408531486988068}, {\"Cluster Size\": 91, \"Silhouette Score\": 0.18827345967292786}, {\"Cluster Size\": 92, \"Silhouette Score\": 0.33971333503723145}, {\"Cluster Size\": 93, \"Silhouette Score\": 0.19660057127475739}, {\"Cluster Size\": 94, \"Silhouette Score\": 0.18323446810245514}, {\"Cluster Size\": 95, \"Silhouette Score\": 0.20890067517757416}, {\"Cluster Size\": 96, \"Silhouette Score\": 0.2100997120141983}, {\"Cluster Size\": 97, \"Silhouette Score\": 0.33593428134918213}, {\"Cluster Size\": 98, \"Silhouette Score\": 0.2052978128194809}, {\"Cluster Size\": 99, \"Silhouette Score\": 0.3356687128543854}]}}, {\"mode\": \"vega-lite\"});\n",
       "</script>"
      ],
      "text/plain": [
       "alt.Chart(...)"
      ]
     },
     "execution_count": 85,
     "metadata": {},
     "output_type": "execute_result"
    }
   ],
   "source": [
    "import hdbscan\n",
    "from sklearn.metrics import silhouette_score,calinski_harabasz_score\n",
    "\n",
    "# Create an instance of HDBSCAN with a specified min_cluster_size\n",
    "clusters=range(2,100)\n",
    "silhouette_scores = []\n",
    "\n",
    "for size in clusters:\n",
    "    cluster = hdbscan.HDBSCAN(min_cluster_size=size,\n",
    "                              metric='euclidean',                      \n",
    "                              cluster_selection_method='eom').fit(umap_embeddings)\n",
    "\n",
    "    # Fit the clusterer to the data\n",
    "    cluster.fit(umap_embeddings)\n",
    "\n",
    "    # Calculate the Silhouette score for the clustering\n",
    "    silhouette_avg = silhouette_score(umap_embeddings, cluster.labels_, metric='euclidean', random_state=42)\n",
    " \n",
    "    \n",
    "    # Print the Silhouette score\n",
    "    silhouette_scores.append(silhouette_avg)\n",
    "    #print(\"The Silhouette score is:\", silhouette_avg)\n",
    "\n",
    "# Create a Pandas DataFrame to store the Silhouette scores and cluster sizes\n",
    "df = pd.DataFrame({'Cluster Size': clusters, 'Silhouette Score': silhouette_scores})\n",
    "\n",
    "# Create a line chart using Altair\n",
    "chart = alt.Chart(df).mark_line().encode(\n",
    "    x='Cluster Size',\n",
    "    y='Silhouette Score',\n",
    "    tooltip=['Cluster Size','Silhouette Score']\n",
    ").properties(title='Silhousette Scores',height=400,width=500)\n",
    "\n",
    "# Display the chart\n",
    "chart"
   ]
  },
  {
   "cell_type": "code",
   "execution_count": 86,
   "metadata": {},
   "outputs": [],
   "source": [
    "# Find the cluster size with the highest Silhouette score\n",
    "min_cluster_size=df.iloc[df['Silhouette Score'].argmax()]['Cluster Size'].astype(int)"
   ]
  },
  {
   "cell_type": "code",
   "execution_count": 105,
   "metadata": {},
   "outputs": [
    {
     "data": {
      "text/plain": [
       "97    59\n",
       "96    40\n",
       "95    43\n",
       "94    44\n",
       "93    45\n",
       "      ..\n",
       "4     49\n",
       "3     50\n",
       "2     21\n",
       "1     22\n",
       "0      9\n",
       "Name: Silhouette Score, Length: 98, dtype: int64"
      ]
     },
     "execution_count": 105,
     "metadata": {},
     "output_type": "execute_result"
    }
   ],
   "source": [
    "df['Silhouette Score'].argsort()[::-1]"
   ]
  },
  {
   "cell_type": "code",
   "execution_count": 88,
   "metadata": {},
   "outputs": [
    {
     "name": "stdout",
     "output_type": "stream",
     "text": [
      "-1\n"
     ]
    }
   ],
   "source": [
    "umap_embeddings = umap.UMAP(n_neighbors=30, \n",
    "                            n_components=2, \n",
    "                            metric='cosine').fit_transform(df_num)\n",
    "\n",
    "# Create an instance of HDBSCAN with a specified min_cluster_size=30\n",
    "cluster = hdbscan.HDBSCAN(min_cluster_size=min_cluster_size,\n",
    "                          metric='euclidean',                      \n",
    "                          cluster_selection_method='eom').fit(umap_embeddings)\n",
    "        # Create the df to store the cluster labels\n",
    "df_uh = pd.DataFrame(data = umap_embeddings\n",
    "                    , columns = ['UMAP component 1', 'UMAP component 2'])\n",
    "\n",
    "df_uh['planet']=df_name['PLANET']\n",
    "df_uh['cat']=df_name['cat']\n",
    "        \n",
    "uh_cluster_assignment = cluster.labels_\n",
    "\n",
    "uh_cdf=pd.DataFrame(columns=[\"cluster_id\",\"planet\"])\n",
    "\n",
    "for i in range(len(uh_cluster_assignment)):\n",
    "            new_row=pd.Series(data={\"cluster_id\":uh_cluster_assignment[i],\n",
    "                                        \"planet\":df_pca.iloc[i]['planet']\n",
    "                            \n",
    "\n",
    "                           }\n",
    "                            )\n",
    "            uh_cdf=pd.concat([uh_cdf,pd.DataFrame(new_row).T],axis=0,ignore_index=True)\n",
    "        \n",
    "# Combine UMAP results with HDBSCAN results to see clustering\n",
    "df_uh_c=df_uh.merge(uh_cdf,how='inner',on='planet')\n",
    "\n",
    "# If one cluster includes both cat=='no' and cat!='no', that means certain planets are closed to habitable one\n",
    "df_closed=pd.DataFrame(columns=df_uh_c.columns)\n",
    "\n",
    "\n",
    "df_cnt=df_uh_c.groupby(['cluster_id','cat']).count().\\\n",
    "            reset_index()[['cluster_id','cat']].groupby('cluster_id').count().reset_index()\n",
    "        \n",
    "\n",
    "for cluster_id in df_cnt[df_cnt.cat>1].cluster_id.unique():\n",
    "            if ('no' in df_uh_c[df_uh_c.cluster_id==cluster_id].cat.unique()):\n",
    "                print(cluster_id)\n",
    "                df_closed=pd.concat([df_closed,df_uh_c[df_uh_c.cluster_id==cluster_id]],axis=0,ignore_index=True)\n"
   ]
  },
  {
   "cell_type": "code",
   "execution_count": 89,
   "metadata": {},
   "outputs": [
    {
     "data": {
      "text/html": [
       "<div>\n",
       "<style scoped>\n",
       "    .dataframe tbody tr th:only-of-type {\n",
       "        vertical-align: middle;\n",
       "    }\n",
       "\n",
       "    .dataframe tbody tr th {\n",
       "        vertical-align: top;\n",
       "    }\n",
       "\n",
       "    .dataframe thead th {\n",
       "        text-align: right;\n",
       "    }\n",
       "</style>\n",
       "<table border=\"1\" class=\"dataframe\">\n",
       "  <thead>\n",
       "    <tr style=\"text-align: right;\">\n",
       "      <th></th>\n",
       "      <th>cluster_id</th>\n",
       "      <th>cat</th>\n",
       "    </tr>\n",
       "  </thead>\n",
       "  <tbody>\n",
       "    <tr>\n",
       "      <th>0</th>\n",
       "      <td>-1</td>\n",
       "      <td>3</td>\n",
       "    </tr>\n",
       "    <tr>\n",
       "      <th>1</th>\n",
       "      <td>0</td>\n",
       "      <td>1</td>\n",
       "    </tr>\n",
       "    <tr>\n",
       "      <th>2</th>\n",
       "      <td>1</td>\n",
       "      <td>1</td>\n",
       "    </tr>\n",
       "  </tbody>\n",
       "</table>\n",
       "</div>"
      ],
      "text/plain": [
       "   cluster_id  cat\n",
       "0          -1    3\n",
       "1           0    1\n",
       "2           1    1"
      ]
     },
     "execution_count": 89,
     "metadata": {},
     "output_type": "execute_result"
    }
   ],
   "source": [
    "df_uh_c.groupby(['cluster_id','cat']).count().\\\n",
    "            reset_index()[['cluster_id','cat']].groupby('cluster_id').count().reset_index()"
   ]
  },
  {
   "cell_type": "code",
   "execution_count": 90,
   "metadata": {},
   "outputs": [
    {
     "data": {
      "text/html": [
       "<div>\n",
       "<style scoped>\n",
       "    .dataframe tbody tr th:only-of-type {\n",
       "        vertical-align: middle;\n",
       "    }\n",
       "\n",
       "    .dataframe tbody tr th {\n",
       "        vertical-align: top;\n",
       "    }\n",
       "\n",
       "    .dataframe thead th {\n",
       "        text-align: right;\n",
       "    }\n",
       "</style>\n",
       "<table border=\"1\" class=\"dataframe\">\n",
       "  <thead>\n",
       "    <tr style=\"text-align: right;\">\n",
       "      <th></th>\n",
       "      <th>UMAP component 1</th>\n",
       "      <th>UMAP component 2</th>\n",
       "      <th>planet</th>\n",
       "      <th>cat</th>\n",
       "      <th>cluster_id</th>\n",
       "    </tr>\n",
       "  </thead>\n",
       "  <tbody>\n",
       "    <tr>\n",
       "      <th>0</th>\n",
       "      <td>1.609221</td>\n",
       "      <td>12.817327</td>\n",
       "      <td>55 Cnc e</td>\n",
       "      <td>no</td>\n",
       "      <td>1</td>\n",
       "    </tr>\n",
       "    <tr>\n",
       "      <th>1</th>\n",
       "      <td>5.730979</td>\n",
       "      <td>10.888522</td>\n",
       "      <td>BD+20 594 b</td>\n",
       "      <td>no</td>\n",
       "      <td>1</td>\n",
       "    </tr>\n",
       "    <tr>\n",
       "      <th>2</th>\n",
       "      <td>11.854760</td>\n",
       "      <td>8.968970</td>\n",
       "      <td>CFHTWIR-Oph 98 b</td>\n",
       "      <td>no</td>\n",
       "      <td>0</td>\n",
       "    </tr>\n",
       "    <tr>\n",
       "      <th>3</th>\n",
       "      <td>7.860921</td>\n",
       "      <td>6.857231</td>\n",
       "      <td>CoRoT-10 b</td>\n",
       "      <td>no</td>\n",
       "      <td>-1</td>\n",
       "    </tr>\n",
       "    <tr>\n",
       "      <th>4</th>\n",
       "      <td>9.782009</td>\n",
       "      <td>12.978155</td>\n",
       "      <td>CoRoT-11 b</td>\n",
       "      <td>no</td>\n",
       "      <td>0</td>\n",
       "    </tr>\n",
       "    <tr>\n",
       "      <th>...</th>\n",
       "      <td>...</td>\n",
       "      <td>...</td>\n",
       "      <td>...</td>\n",
       "      <td>...</td>\n",
       "      <td>...</td>\n",
       "    </tr>\n",
       "    <tr>\n",
       "      <th>998</th>\n",
       "      <td>8.759734</td>\n",
       "      <td>8.833702</td>\n",
       "      <td>XO-3 b</td>\n",
       "      <td>no</td>\n",
       "      <td>0</td>\n",
       "    </tr>\n",
       "    <tr>\n",
       "      <th>999</th>\n",
       "      <td>8.905252</td>\n",
       "      <td>12.798108</td>\n",
       "      <td>XO-4 b</td>\n",
       "      <td>no</td>\n",
       "      <td>0</td>\n",
       "    </tr>\n",
       "    <tr>\n",
       "      <th>1000</th>\n",
       "      <td>11.617813</td>\n",
       "      <td>12.050407</td>\n",
       "      <td>XO-5 b</td>\n",
       "      <td>no</td>\n",
       "      <td>0</td>\n",
       "    </tr>\n",
       "    <tr>\n",
       "      <th>1001</th>\n",
       "      <td>11.061763</td>\n",
       "      <td>11.030755</td>\n",
       "      <td>XO-6 b</td>\n",
       "      <td>no</td>\n",
       "      <td>0</td>\n",
       "    </tr>\n",
       "    <tr>\n",
       "      <th>1002</th>\n",
       "      <td>9.567745</td>\n",
       "      <td>12.570004</td>\n",
       "      <td>XO-7 b</td>\n",
       "      <td>no</td>\n",
       "      <td>0</td>\n",
       "    </tr>\n",
       "  </tbody>\n",
       "</table>\n",
       "<p>1003 rows × 5 columns</p>\n",
       "</div>"
      ],
      "text/plain": [
       "      UMAP component 1  UMAP component 2            planet cat cluster_id\n",
       "0             1.609221         12.817327          55 Cnc e  no          1\n",
       "1             5.730979         10.888522       BD+20 594 b  no          1\n",
       "2            11.854760          8.968970  CFHTWIR-Oph 98 b  no          0\n",
       "3             7.860921          6.857231        CoRoT-10 b  no         -1\n",
       "4             9.782009         12.978155        CoRoT-11 b  no          0\n",
       "...                ...               ...               ...  ..        ...\n",
       "998           8.759734          8.833702            XO-3 b  no          0\n",
       "999           8.905252         12.798108            XO-4 b  no          0\n",
       "1000         11.617813         12.050407            XO-5 b  no          0\n",
       "1001         11.061763         11.030755            XO-6 b  no          0\n",
       "1002          9.567745         12.570004            XO-7 b  no          0\n",
       "\n",
       "[1003 rows x 5 columns]"
      ]
     },
     "execution_count": 90,
     "metadata": {},
     "output_type": "execute_result"
    }
   ],
   "source": [
    "df_uh_c"
   ]
  },
  {
   "cell_type": "code",
   "execution_count": 91,
   "metadata": {},
   "outputs": [],
   "source": [
    "def hdbscan_closed_planet(df_num,df_name):\n",
    "\n",
    "    min_cluster_size=2\n",
    "    umap_embeddings = umap.UMAP(n_neighbors=30, \n",
    "                            n_components=2, \n",
    "                            metric='cosine').fit_transform(df_num)\n",
    "\n",
    "    while min_cluster_size>=2:\n",
    "        # Create an instance of HDBSCAN with a specified min_cluster_size=30\n",
    "        cluster = hdbscan.HDBSCAN(min_cluster_size=min_cluster_size,\n",
    "                          metric='euclidean',                      \n",
    "                          cluster_selection_method='eom').fit(umap_embeddings)\n",
    "        # Create the df to store the cluster labels\n",
    "        df_uh = pd.DataFrame(data = umap_embeddings\n",
    "                    , columns = ['UMAP component 1', 'UMAP component 2'])\n",
    "\n",
    "        df_uh['planet']=df_name['PLANET']\n",
    "        df_uh['cat']=df_name['cat']\n",
    "        \n",
    "        uh_cluster_assignment = cluster.labels_\n",
    "\n",
    "        uh_cdf=pd.DataFrame(columns=[\"cluster_id\",\"planet\"])\n",
    "\n",
    "        for i in range(len(uh_cluster_assignment)):\n",
    "            new_row=pd.Series(data={\"cluster_id\":uh_cluster_assignment[i],\n",
    "                                        \"planet\":df_pca.iloc[i]['planet']\n",
    "                            \n",
    "\n",
    "                           }\n",
    "                            )\n",
    "            uh_cdf=pd.concat([uh_cdf,pd.DataFrame(new_row).T],axis=0,ignore_index=True)\n",
    "        \n",
    "        # Combine UMAP results with HDBSCAN results to see clustering\n",
    "        df_uh_c=df_uh.merge(uh_cdf,how='inner',on='planet')\n",
    "\n",
    "        # If one cluster includes both cat=='no' and cat!='no', that means certain planets are closed to habitable one\n",
    "        df_closed=pd.DataFrame(columns=df_uh_c.columns)\n",
    "\n",
    "        # df_closed.groupby(['cluster_id','cat']).count()\n",
    "        df_cnt=df_uh_c.groupby(['cluster_id','cat']).count().\\\n",
    "            reset_index()[['cluster_id','cat']].groupby('cluster_id').count().reset_index()\n",
    "        \n",
    "        #print(df_cnt.cluster_id.unique())\n",
    "        for cluster_id in df_cnt[df_cnt.cat>1].cluster_id.unique():\n",
    "            if ('no' in df_uh_c[df_uh_c.cluster_id==cluster_id].cat.unique()):\n",
    "                # print(cluster_id)\n",
    "                df_closed=pd.concat([df_closed,df_uh_c[df_uh_c.cluster_id==cluster_id]],axis=0,ignore_index=True)\n",
    "        if df_closed.empty==False:\n",
    "            cluster_size=min_cluster_size\n",
    "            min_cluster_size=1\n",
    "            return df_closed,cluster_size\n",
    "        else:\n",
    "            min_cluster_size+=1\n",
    "\n",
    "        #print(min_cluster_size)\n",
    "    return none,none"
   ]
  },
  {
   "cell_type": "code",
   "execution_count": 92,
   "metadata": {},
   "outputs": [],
   "source": [
    "df_h_closed,cluster_size=hdbscan_closed_planet(df_num,df_name)"
   ]
  },
  {
   "cell_type": "code",
   "execution_count": 93,
   "metadata": {},
   "outputs": [
    {
     "data": {
      "text/plain": [
       "2"
      ]
     },
     "execution_count": 93,
     "metadata": {},
     "output_type": "execute_result"
    }
   ],
   "source": [
    "cluster_size"
   ]
  },
  {
   "cell_type": "code",
   "execution_count": 94,
   "metadata": {},
   "outputs": [
    {
     "data": {
      "text/html": [
       "<div>\n",
       "<style scoped>\n",
       "    .dataframe tbody tr th:only-of-type {\n",
       "        vertical-align: middle;\n",
       "    }\n",
       "\n",
       "    .dataframe tbody tr th {\n",
       "        vertical-align: top;\n",
       "    }\n",
       "\n",
       "    .dataframe thead th {\n",
       "        text-align: right;\n",
       "    }\n",
       "</style>\n",
       "<table border=\"1\" class=\"dataframe\">\n",
       "  <thead>\n",
       "    <tr style=\"text-align: right;\">\n",
       "      <th></th>\n",
       "      <th>UMAP component 1</th>\n",
       "      <th>UMAP component 2</th>\n",
       "      <th>planet</th>\n",
       "      <th>cat</th>\n",
       "      <th>cluster_id</th>\n",
       "    </tr>\n",
       "  </thead>\n",
       "  <tbody>\n",
       "    <tr>\n",
       "      <th>0</th>\n",
       "      <td>0.871747</td>\n",
       "      <td>10.552530</td>\n",
       "      <td>55 Cnc e</td>\n",
       "      <td>no</td>\n",
       "      <td>-1</td>\n",
       "    </tr>\n",
       "    <tr>\n",
       "      <th>1</th>\n",
       "      <td>9.300935</td>\n",
       "      <td>12.321654</td>\n",
       "      <td>CoRoT-11 b</td>\n",
       "      <td>no</td>\n",
       "      <td>-1</td>\n",
       "    </tr>\n",
       "    <tr>\n",
       "      <th>2</th>\n",
       "      <td>11.052808</td>\n",
       "      <td>9.598197</td>\n",
       "      <td>CoRoT-12 b</td>\n",
       "      <td>no</td>\n",
       "      <td>-1</td>\n",
       "    </tr>\n",
       "    <tr>\n",
       "      <th>3</th>\n",
       "      <td>7.344000</td>\n",
       "      <td>12.472969</td>\n",
       "      <td>CoRoT-17 b</td>\n",
       "      <td>no</td>\n",
       "      <td>-1</td>\n",
       "    </tr>\n",
       "    <tr>\n",
       "      <th>4</th>\n",
       "      <td>9.061550</td>\n",
       "      <td>10.547491</td>\n",
       "      <td>CoRoT-19 b</td>\n",
       "      <td>no</td>\n",
       "      <td>-1</td>\n",
       "    </tr>\n",
       "    <tr>\n",
       "      <th>...</th>\n",
       "      <td>...</td>\n",
       "      <td>...</td>\n",
       "      <td>...</td>\n",
       "      <td>...</td>\n",
       "      <td>...</td>\n",
       "    </tr>\n",
       "    <tr>\n",
       "      <th>178</th>\n",
       "      <td>8.208452</td>\n",
       "      <td>4.767089</td>\n",
       "      <td>Kepler-22 b</td>\n",
       "      <td>Optimistic</td>\n",
       "      <td>4</td>\n",
       "    </tr>\n",
       "    <tr>\n",
       "      <th>179</th>\n",
       "      <td>8.166416</td>\n",
       "      <td>4.679496</td>\n",
       "      <td>TOI-2285 b</td>\n",
       "      <td>no</td>\n",
       "      <td>4</td>\n",
       "    </tr>\n",
       "    <tr>\n",
       "      <th>180</th>\n",
       "      <td>8.206086</td>\n",
       "      <td>4.559357</td>\n",
       "      <td>Kepler-34 b</td>\n",
       "      <td>no</td>\n",
       "      <td>5</td>\n",
       "    </tr>\n",
       "    <tr>\n",
       "      <th>181</th>\n",
       "      <td>8.200433</td>\n",
       "      <td>4.522024</td>\n",
       "      <td>Kepler-62 e</td>\n",
       "      <td>Optimistic</td>\n",
       "      <td>5</td>\n",
       "    </tr>\n",
       "    <tr>\n",
       "      <th>182</th>\n",
       "      <td>8.193107</td>\n",
       "      <td>4.551673</td>\n",
       "      <td>TRAPPIST-1 d</td>\n",
       "      <td>Conservative</td>\n",
       "      <td>5</td>\n",
       "    </tr>\n",
       "  </tbody>\n",
       "</table>\n",
       "<p>183 rows × 5 columns</p>\n",
       "</div>"
      ],
      "text/plain": [
       "     UMAP component 1  UMAP component 2        planet           cat cluster_id\n",
       "0            0.871747         10.552530      55 Cnc e            no         -1\n",
       "1            9.300935         12.321654    CoRoT-11 b            no         -1\n",
       "2           11.052808          9.598197    CoRoT-12 b            no         -1\n",
       "3            7.344000         12.472969    CoRoT-17 b            no         -1\n",
       "4            9.061550         10.547491    CoRoT-19 b            no         -1\n",
       "..                ...               ...           ...           ...        ...\n",
       "178          8.208452          4.767089   Kepler-22 b    Optimistic          4\n",
       "179          8.166416          4.679496    TOI-2285 b            no          4\n",
       "180          8.206086          4.559357   Kepler-34 b            no          5\n",
       "181          8.200433          4.522024   Kepler-62 e    Optimistic          5\n",
       "182          8.193107          4.551673  TRAPPIST-1 d  Conservative          5\n",
       "\n",
       "[183 rows x 5 columns]"
      ]
     },
     "execution_count": 94,
     "metadata": {},
     "output_type": "execute_result"
    }
   ],
   "source": [
    "df_h_closed"
   ]
  },
  {
   "cell_type": "code",
   "execution_count": 95,
   "metadata": {},
   "outputs": [
    {
     "data": {
      "text/html": [
       "\n",
       "<div id=\"altair-viz-fbc8156bffce42998bab34e7e975c47a\"></div>\n",
       "<script type=\"text/javascript\">\n",
       "  var VEGA_DEBUG = (typeof VEGA_DEBUG == \"undefined\") ? {} : VEGA_DEBUG;\n",
       "  (function(spec, embedOpt){\n",
       "    let outputDiv = document.currentScript.previousElementSibling;\n",
       "    if (outputDiv.id !== \"altair-viz-fbc8156bffce42998bab34e7e975c47a\") {\n",
       "      outputDiv = document.getElementById(\"altair-viz-fbc8156bffce42998bab34e7e975c47a\");\n",
       "    }\n",
       "    const paths = {\n",
       "      \"vega\": \"https://cdn.jsdelivr.net/npm//vega@5?noext\",\n",
       "      \"vega-lib\": \"https://cdn.jsdelivr.net/npm//vega-lib?noext\",\n",
       "      \"vega-lite\": \"https://cdn.jsdelivr.net/npm//vega-lite@4.17.0?noext\",\n",
       "      \"vega-embed\": \"https://cdn.jsdelivr.net/npm//vega-embed@6?noext\",\n",
       "    };\n",
       "\n",
       "    function maybeLoadScript(lib, version) {\n",
       "      var key = `${lib.replace(\"-\", \"\")}_version`;\n",
       "      return (VEGA_DEBUG[key] == version) ?\n",
       "        Promise.resolve(paths[lib]) :\n",
       "        new Promise(function(resolve, reject) {\n",
       "          var s = document.createElement('script');\n",
       "          document.getElementsByTagName(\"head\")[0].appendChild(s);\n",
       "          s.async = true;\n",
       "          s.onload = () => {\n",
       "            VEGA_DEBUG[key] = version;\n",
       "            return resolve(paths[lib]);\n",
       "          };\n",
       "          s.onerror = () => reject(`Error loading script: ${paths[lib]}`);\n",
       "          s.src = paths[lib];\n",
       "        });\n",
       "    }\n",
       "\n",
       "    function showError(err) {\n",
       "      outputDiv.innerHTML = `<div class=\"error\" style=\"color:red;\">${err}</div>`;\n",
       "      throw err;\n",
       "    }\n",
       "\n",
       "    function displayChart(vegaEmbed) {\n",
       "      vegaEmbed(outputDiv, spec, embedOpt)\n",
       "        .catch(err => showError(`Javascript Error: ${err.message}<br>This usually means there's a typo in your chart specification. See the javascript console for the full traceback.`));\n",
       "    }\n",
       "\n",
       "    if(typeof define === \"function\" && define.amd) {\n",
       "      requirejs.config({paths});\n",
       "      require([\"vega-embed\"], displayChart, err => showError(`Error loading script: ${err.message}`));\n",
       "    } else {\n",
       "      maybeLoadScript(\"vega\", \"5\")\n",
       "        .then(() => maybeLoadScript(\"vega-lite\", \"4.17.0\"))\n",
       "        .then(() => maybeLoadScript(\"vega-embed\", \"6\"))\n",
       "        .catch(showError)\n",
       "        .then(() => displayChart(vegaEmbed));\n",
       "    }\n",
       "  })({\"config\": {\"view\": {\"continuousWidth\": 400, \"continuousHeight\": 300}}, \"data\": {\"name\": \"data-fe617f425ce0b90143486db8840de90a\"}, \"mark\": {\"type\": \"point\", \"size\": 60}, \"encoding\": {\"color\": {\"field\": \"cluster_id\", \"scale\": {\"scheme\": \"category20c\"}, \"type\": \"quantitative\"}, \"shape\": {\"field\": \"cat\", \"type\": \"nominal\"}, \"tooltip\": [{\"field\": \"planet\", \"type\": \"nominal\"}], \"x\": {\"field\": \"UMAP component 1\", \"type\": \"quantitative\"}, \"y\": {\"field\": \"UMAP component 2\", \"type\": \"quantitative\"}}, \"height\": 400, \"selection\": {\"selector002\": {\"type\": \"interval\", \"bind\": \"scales\", \"encodings\": [\"x\", \"y\"]}}, \"title\": \"UMAP & HBDSCAN\", \"width\": 500, \"$schema\": \"https://vega.github.io/schema/vega-lite/v4.17.0.json\", \"datasets\": {\"data-fe617f425ce0b90143486db8840de90a\": [{\"UMAP component 1\": 0.8717469573020935, \"UMAP component 2\": 10.552530288696289, \"planet\": \"55 Cnc e\", \"cat\": \"no\", \"cluster_id\": -1}, {\"UMAP component 1\": 9.300934791564941, \"UMAP component 2\": 12.321654319763184, \"planet\": \"CoRoT-11 b\", \"cat\": \"no\", \"cluster_id\": -1}, {\"UMAP component 1\": 11.052807807922363, \"UMAP component 2\": 9.598196983337402, \"planet\": \"CoRoT-12 b\", \"cat\": \"no\", \"cluster_id\": -1}, {\"UMAP component 1\": 7.344000339508057, \"UMAP component 2\": 12.472969055175781, \"planet\": \"CoRoT-17 b\", \"cat\": \"no\", \"cluster_id\": -1}, {\"UMAP component 1\": 9.06155014038086, \"UMAP component 2\": 10.547491073608398, \"planet\": \"CoRoT-19 b\", \"cat\": \"no\", \"cluster_id\": -1}, {\"UMAP component 1\": 7.233642578125, \"UMAP component 2\": 12.24377727508545, \"planet\": \"CoRoT-21 b\", \"cat\": \"no\", \"cluster_id\": -1}, {\"UMAP component 1\": 9.246136665344238, \"UMAP component 2\": 8.705857276916504, \"planet\": \"CoRoT-23 b\", \"cat\": \"no\", \"cluster_id\": -1}, {\"UMAP component 1\": 8.880630493164062, \"UMAP component 2\": 11.815768241882324, \"planet\": \"CoRoT-26 b\", \"cat\": \"no\", \"cluster_id\": -1}, {\"UMAP component 1\": 9.06954574584961, \"UMAP component 2\": 11.01573657989502, \"planet\": \"CoRoT-31 b\", \"cat\": \"no\", \"cluster_id\": -1}, {\"UMAP component 1\": 5.074492931365967, \"UMAP component 2\": 7.815877437591553, \"planet\": \"EPIC 220674823 c\", \"cat\": \"no\", \"cluster_id\": -1}, {\"UMAP component 1\": 0.49758443236351013, \"UMAP component 2\": 11.41650390625, \"planet\": \"GJ 1252 b\", \"cat\": \"no\", \"cluster_id\": -1}, {\"UMAP component 1\": 6.357152462005615, \"UMAP component 2\": 6.800640106201172, \"planet\": \"GJ 143 b\", \"cat\": \"no\", \"cluster_id\": -1}, {\"UMAP component 1\": 8.143698692321777, \"UMAP component 2\": 4.904765605926514, \"planet\": \"GJ 414 A b\", \"cat\": \"no\", \"cluster_id\": -1}, {\"UMAP component 1\": 12.317648887634277, \"UMAP component 2\": 10.785418510437012, \"planet\": \"HAT-P-12 b\", \"cat\": \"no\", \"cluster_id\": -1}, {\"UMAP component 1\": 9.473873138427734, \"UMAP component 2\": 7.819497108459473, \"planet\": \"HAT-P-15 b\", \"cat\": \"no\", \"cluster_id\": -1}, {\"UMAP component 1\": 8.806645393371582, \"UMAP component 2\": 7.069749355316162, \"planet\": \"HAT-P-17 b\", \"cat\": \"no\", \"cluster_id\": -1}, {\"UMAP component 1\": 10.197681427001953, \"UMAP component 2\": 10.452178955078125, \"planet\": \"HAT-P-30 b\", \"cat\": \"no\", \"cluster_id\": -1}, {\"UMAP component 1\": 11.131308555603027, \"UMAP component 2\": 9.134367942810059, \"planet\": \"HAT-P-32 b\", \"cat\": \"no\", \"cluster_id\": -1}, {\"UMAP component 1\": 8.569972038269043, \"UMAP component 2\": 7.521131992340088, \"planet\": \"HAT-P-34 b\", \"cat\": \"no\", \"cluster_id\": -1}, {\"UMAP component 1\": 10.075434684753418, \"UMAP component 2\": 10.232346534729004, \"planet\": \"HAT-P-45 b\", \"cat\": \"no\", \"cluster_id\": -1}, {\"UMAP component 1\": 9.780268669128418, \"UMAP component 2\": 9.4511137008667, \"planet\": \"HAT-P-46 b\", \"cat\": \"no\", \"cluster_id\": -1}, {\"UMAP component 1\": 9.19617748260498, \"UMAP component 2\": 10.07002067565918, \"planet\": \"HAT-P-50 b\", \"cat\": \"no\", \"cluster_id\": -1}, {\"UMAP component 1\": 10.376333236694336, \"UMAP component 2\": 8.767990112304688, \"planet\": \"HAT-P-55 b\", \"cat\": \"no\", \"cluster_id\": -1}, {\"UMAP component 1\": 10.701205253601074, \"UMAP component 2\": 11.152709007263184, \"planet\": \"HAT-P-59 b\", \"cat\": \"no\", \"cluster_id\": -1}, {\"UMAP component 1\": 9.618687629699707, \"UMAP component 2\": 8.254849433898926, \"planet\": \"HAT-P-65 b\", \"cat\": \"no\", \"cluster_id\": -1}, {\"UMAP component 1\": 10.102514266967773, \"UMAP component 2\": 10.732071876525879, \"planet\": \"HAT-P-67 b\", \"cat\": \"no\", \"cluster_id\": -1}, {\"UMAP component 1\": 8.063737869262695, \"UMAP component 2\": 12.097939491271973, \"planet\": \"HAT-P-7 b\", \"cat\": \"no\", \"cluster_id\": -1}, {\"UMAP component 1\": 8.125797271728516, \"UMAP component 2\": 7.029483795166016, \"planet\": \"HATS-10 b\", \"cat\": \"no\", \"cluster_id\": -1}, {\"UMAP component 1\": 10.089739799499512, \"UMAP component 2\": 8.66769790649414, \"planet\": \"HATS-14 b\", \"cat\": \"no\", \"cluster_id\": -1}, {\"UMAP component 1\": 8.798795700073242, \"UMAP component 2\": 10.382319450378418, \"planet\": \"HATS-17 b\", \"cat\": \"no\", \"cluster_id\": -1}, {\"UMAP component 1\": 10.611712455749512, \"UMAP component 2\": 9.065420150756836, \"planet\": \"HATS-1 b\", \"cat\": \"no\", \"cluster_id\": -1}, {\"UMAP component 1\": 8.261197090148926, \"UMAP component 2\": 14.096266746520996, \"planet\": \"HATS-24 b\", \"cat\": \"no\", \"cluster_id\": -1}, {\"UMAP component 1\": 10.160672187805176, \"UMAP component 2\": 8.314494132995605, \"planet\": \"HATS-28 b\", \"cat\": \"no\", \"cluster_id\": -1}, {\"UMAP component 1\": 10.23536491394043, \"UMAP component 2\": 9.331426620483398, \"planet\": \"HATS-30 b\", \"cat\": \"no\", \"cluster_id\": -1}, {\"UMAP component 1\": 11.19293212890625, \"UMAP component 2\": 9.386568069458008, \"planet\": \"HATS-34 b\", \"cat\": \"no\", \"cluster_id\": -1}, {\"UMAP component 1\": 9.341527938842773, \"UMAP component 2\": 8.214323043823242, \"planet\": \"HATS-39 b\", \"cat\": \"no\", \"cluster_id\": -1}, {\"UMAP component 1\": 9.98281192779541, \"UMAP component 2\": 8.275421142578125, \"planet\": \"HATS-48 A b\", \"cat\": \"no\", \"cluster_id\": -1}, {\"UMAP component 1\": 8.20553970336914, \"UMAP component 2\": 6.983504295349121, \"planet\": \"HATS-50 b\", \"cat\": \"no\", \"cluster_id\": -1}, {\"UMAP component 1\": 9.868043899536133, \"UMAP component 2\": 8.528514862060547, \"planet\": \"HATS-52 b\", \"cat\": \"no\", \"cluster_id\": -1}, {\"UMAP component 1\": 10.097268104553223, \"UMAP component 2\": 9.565112113952637, \"planet\": \"HATS-55 b\", \"cat\": \"no\", \"cluster_id\": -1}, {\"UMAP component 1\": 8.78233814239502, \"UMAP component 2\": 10.713504791259766, \"planet\": \"HATS-56 b\", \"cat\": \"no\", \"cluster_id\": -1}, {\"UMAP component 1\": 10.259714126586914, \"UMAP component 2\": 9.994860649108887, \"planet\": \"HATS-65 b\", \"cat\": \"no\", \"cluster_id\": -1}, {\"UMAP component 1\": 8.047410011291504, \"UMAP component 2\": 6.8976335525512695, \"planet\": \"HATS-69 b\", \"cat\": \"no\", \"cluster_id\": -1}, {\"UMAP component 1\": 3.3278019428253174, \"UMAP component 2\": 9.180167198181152, \"planet\": \"HD 106315 b\", \"cat\": \"no\", \"cluster_id\": -1}, {\"UMAP component 1\": 5.6700849533081055, \"UMAP component 2\": 8.045180320739746, \"planet\": \"HD 106315 c\", \"cat\": \"no\", \"cluster_id\": -1}, {\"UMAP component 1\": 5.770459175109863, \"UMAP component 2\": 6.691108226776123, \"planet\": \"HD 18599 b\", \"cat\": \"no\", \"cluster_id\": -1}, {\"UMAP component 1\": 11.253782272338867, \"UMAP component 2\": 11.19114875793457, \"planet\": \"HD 209458 b\", \"cat\": \"no\", \"cluster_id\": -1}, {\"UMAP component 1\": 5.503445625305176, \"UMAP component 2\": 12.904411315917969, \"planet\": \"HD 219666 b\", \"cat\": \"no\", \"cluster_id\": -1}, {\"UMAP component 1\": 4.854618549346924, \"UMAP component 2\": 7.8907084465026855, \"planet\": \"HD 23472 c\", \"cat\": \"no\", \"cluster_id\": -1}, {\"UMAP component 1\": 9.367079734802246, \"UMAP component 2\": 9.987139701843262, \"planet\": \"HD 2685 b\", \"cat\": \"no\", \"cluster_id\": -1}, {\"UMAP component 1\": 5.748817443847656, \"UMAP component 2\": 9.614200592041016, \"planet\": \"HD 28109 d\", \"cat\": \"no\", \"cluster_id\": -1}, {\"UMAP component 1\": 0.9680929183959961, \"UMAP component 2\": 10.762760162353516, \"planet\": \"HD 3167 b\", \"cat\": \"no\", \"cluster_id\": -1}, {\"UMAP component 1\": 8.617507934570312, \"UMAP component 2\": 10.013751983642578, \"planet\": \"HD 332231 b\", \"cat\": \"no\", \"cluster_id\": -1}, {\"UMAP component 1\": 4.272361755371094, \"UMAP component 2\": 10.636627197265625, \"planet\": \"HD 63935 c\", \"cat\": \"no\", \"cluster_id\": -1}, {\"UMAP component 1\": 2.2829220294952393, \"UMAP component 2\": 9.303644180297852, \"planet\": \"HD 86226 c\", \"cat\": \"no\", \"cluster_id\": -1}, {\"UMAP component 1\": 6.054447174072266, \"UMAP component 2\": 8.515362739562988, \"planet\": \"HD 89345 b\", \"cat\": \"no\", \"cluster_id\": -1}, {\"UMAP component 1\": 7.867693901062012, \"UMAP component 2\": 6.736235618591309, \"planet\": \"HD 95338 b\", \"cat\": \"no\", \"cluster_id\": -1}, {\"UMAP component 1\": 6.338016986846924, \"UMAP component 2\": 6.8355793952941895, \"planet\": \"K2-10 b\", \"cat\": \"no\", \"cluster_id\": -1}, {\"UMAP component 1\": 5.0107035636901855, \"UMAP component 2\": 7.021564483642578, \"planet\": \"K2-136 b\", \"cat\": \"no\", \"cluster_id\": -1}, {\"UMAP component 1\": 4.963174819946289, \"UMAP component 2\": 7.717800617218018, \"planet\": \"K2-136 d\", \"cat\": \"no\", \"cluster_id\": -1}, {\"UMAP component 1\": 4.613144397735596, \"UMAP component 2\": 7.222096920013428, \"planet\": \"K2-146 c\", \"cat\": \"no\", \"cluster_id\": -1}, {\"UMAP component 1\": 8.231542587280273, \"UMAP component 2\": 4.476379871368408, \"planet\": \"K2-18 b\", \"cat\": \"Optimistic\", \"cluster_id\": -1}, {\"UMAP component 1\": 1.4811046123504639, \"UMAP component 2\": 10.859622955322266, \"planet\": \"K2-19 d\", \"cat\": \"no\", \"cluster_id\": -1}, {\"UMAP component 1\": 5.2597761154174805, \"UMAP component 2\": 6.943728923797607, \"planet\": \"K2-233 c\", \"cat\": \"no\", \"cluster_id\": -1}, {\"UMAP component 1\": 5.678488254547119, \"UMAP component 2\": 9.268441200256348, \"planet\": \"K2-24 b\", \"cat\": \"no\", \"cluster_id\": -1}, {\"UMAP component 1\": 5.916255950927734, \"UMAP component 2\": 7.3271026611328125, \"planet\": \"K2-263 b\", \"cat\": \"no\", \"cluster_id\": -1}, {\"UMAP component 1\": 0.9590261578559875, \"UMAP component 2\": 11.74671459197998, \"planet\": \"K2-266 b\", \"cat\": \"no\", \"cluster_id\": -1}, {\"UMAP component 1\": 1.8193458318710327, \"UMAP component 2\": 11.561562538146973, \"planet\": \"K2-285 b\", \"cat\": \"no\", \"cluster_id\": -1}, {\"UMAP component 1\": 5.498279571533203, \"UMAP component 2\": 12.951508522033691, \"planet\": \"K2-285 c\", \"cat\": \"no\", \"cluster_id\": -1}, {\"UMAP component 1\": 3.793114423751831, \"UMAP component 2\": 10.340524673461914, \"planet\": \"K2-290 b\", \"cat\": \"no\", \"cluster_id\": -1}, {\"UMAP component 1\": 4.09478759765625, \"UMAP component 2\": 10.212594985961914, \"planet\": \"K2-292 b\", \"cat\": \"no\", \"cluster_id\": -1}, {\"UMAP component 1\": 8.026383399963379, \"UMAP component 2\": 14.28426456451416, \"planet\": \"K2-31 b\", \"cat\": \"no\", \"cluster_id\": -1}, {\"UMAP component 1\": 8.917153358459473, \"UMAP component 2\": 10.58520221710205, \"planet\": \"KELT-19 A b\", \"cat\": \"no\", \"cluster_id\": -1}, {\"UMAP component 1\": 9.369685173034668, \"UMAP component 2\": 11.619001388549805, \"planet\": \"KELT-3 b\", \"cat\": \"no\", \"cluster_id\": -1}, {\"UMAP component 1\": 2.462567090988159, \"UMAP component 2\": 8.691740989685059, \"planet\": \"Kepler-102 d\", \"cat\": \"no\", \"cluster_id\": -1}, {\"UMAP component 1\": 5.639135360717773, \"UMAP component 2\": 8.16044807434082, \"planet\": \"Kepler-10 c\", \"cat\": \"no\", \"cluster_id\": -1}, {\"UMAP component 1\": 7.530538082122803, \"UMAP component 2\": 11.855072975158691, \"planet\": \"Kepler-14 b\", \"cat\": \"no\", \"cluster_id\": -1}, {\"UMAP component 1\": 6.872093200683594, \"UMAP component 2\": 11.395068168640137, \"planet\": \"Kepler-1658 b\", \"cat\": \"no\", \"cluster_id\": -1}, {\"UMAP component 1\": 3.316957473754883, \"UMAP component 2\": 10.074451446533203, \"planet\": \"Kepler-1705 b\", \"cat\": \"no\", \"cluster_id\": -1}, {\"UMAP component 1\": 2.2474417686462402, \"UMAP component 2\": 11.133161544799805, \"planet\": \"Kepler-18 b\", \"cat\": \"no\", \"cluster_id\": -1}, {\"UMAP component 1\": 3.196851968765259, \"UMAP component 2\": 9.727822303771973, \"planet\": \"Kepler-1972 c\", \"cat\": \"no\", \"cluster_id\": -1}, {\"UMAP component 1\": 3.0066709518432617, \"UMAP component 2\": 10.313211441040039, \"planet\": \"Kepler-21 b\", \"cat\": \"no\", \"cluster_id\": -1}, {\"UMAP component 1\": 3.5282013416290283, \"UMAP component 2\": 10.960805892944336, \"planet\": \"Kepler-24 b\", \"cat\": \"no\", \"cluster_id\": -1}, {\"UMAP component 1\": 4.4235615730285645, \"UMAP component 2\": 10.262914657592773, \"planet\": \"Kepler-289 b\", \"cat\": \"no\", \"cluster_id\": -1}, {\"UMAP component 1\": 7.320069313049316, \"UMAP component 2\": 11.836406707763672, \"planet\": \"Kepler-31 c\", \"cat\": \"no\", \"cluster_id\": -1}, {\"UMAP component 1\": 7.447910785675049, \"UMAP component 2\": 12.167411804199219, \"planet\": \"Kepler-31 d\", \"cat\": \"no\", \"cluster_id\": -1}, {\"UMAP component 1\": 4.585708141326904, \"UMAP component 2\": 10.292850494384766, \"planet\": \"Kepler-36 c\", \"cat\": \"no\", \"cluster_id\": -1}, {\"UMAP component 1\": 9.1791410446167, \"UMAP component 2\": 13.51060962677002, \"planet\": \"Kepler-412 b\", \"cat\": \"no\", \"cluster_id\": -1}, {\"UMAP component 1\": 8.952828407287598, \"UMAP component 2\": 13.686078071594238, \"planet\": \"Kepler-424 b\", \"cat\": \"no\", \"cluster_id\": -1}, {\"UMAP component 1\": 10.055238723754883, \"UMAP component 2\": 8.479732513427734, \"planet\": \"Kepler-426 b\", \"cat\": \"no\", \"cluster_id\": -1}, {\"UMAP component 1\": 9.790369987487793, \"UMAP component 2\": 8.008400917053223, \"planet\": \"Kepler-428 b\", \"cat\": \"no\", \"cluster_id\": -1}, {\"UMAP component 1\": 12.044133186340332, \"UMAP component 2\": 9.26984977722168, \"planet\": \"Kepler-447 b\", \"cat\": \"no\", \"cluster_id\": -1}, {\"UMAP component 1\": 2.359671115875244, \"UMAP component 2\": 11.284828186035156, \"planet\": \"Kepler-48 b\", \"cat\": \"no\", \"cluster_id\": -1}, {\"UMAP component 1\": 6.2131876945495605, \"UMAP component 2\": 6.969867706298828, \"planet\": \"Kepler-538 b\", \"cat\": \"no\", \"cluster_id\": -1}, {\"UMAP component 1\": 3.7870354652404785, \"UMAP component 2\": 10.91386890411377, \"planet\": \"Kepler-58 b\", \"cat\": \"no\", \"cluster_id\": -1}, {\"UMAP component 1\": 7.026573181152344, \"UMAP component 2\": 6.6688432693481445, \"planet\": \"Kepler-63 b\", \"cat\": \"no\", \"cluster_id\": -1}, {\"UMAP component 1\": 10.268901824951172, \"UMAP component 2\": 11.848692893981934, \"planet\": \"Kepler-6 b\", \"cat\": \"no\", \"cluster_id\": -1}, {\"UMAP component 1\": 9.53140640258789, \"UMAP component 2\": 13.309244155883789, \"planet\": \"Kepler-77 b\", \"cat\": \"no\", \"cluster_id\": -1}, {\"UMAP component 1\": 6.889880657196045, \"UMAP component 2\": 9.94122314453125, \"planet\": \"Kepler-79 d\", \"cat\": \"no\", \"cluster_id\": -1}, {\"UMAP component 1\": 1.7788598537445068, \"UMAP component 2\": 11.200093269348145, \"planet\": \"Kepler-99 b\", \"cat\": \"no\", \"cluster_id\": -1}, {\"UMAP component 1\": 5.222691535949707, \"UMAP component 2\": 6.556674003601074, \"planet\": \"LHS 1678 b\", \"cat\": \"no\", \"cluster_id\": -1}, {\"UMAP component 1\": 1.2077380418777466, \"UMAP component 2\": 11.40949535369873, \"planet\": \"LHS 1815 b\", \"cat\": \"no\", \"cluster_id\": -1}, {\"UMAP component 1\": 9.593094825744629, \"UMAP component 2\": 12.598044395446777, \"planet\": \"NGTS-18 b\", \"cat\": \"no\", \"cluster_id\": -1}, {\"UMAP component 1\": 10.418037414550781, \"UMAP component 2\": 12.282357215881348, \"planet\": \"OGLE-TR-10 b\", \"cat\": \"no\", \"cluster_id\": -1}, {\"UMAP component 1\": 10.992915153503418, \"UMAP component 2\": 12.956631660461426, \"planet\": \"Qatar-10 b\", \"cat\": \"no\", \"cluster_id\": -1}, {\"UMAP component 1\": 12.276750564575195, \"UMAP component 2\": 11.605093955993652, \"planet\": \"Qatar-2 b\", \"cat\": \"no\", \"cluster_id\": -1}, {\"UMAP component 1\": 9.7164306640625, \"UMAP component 2\": 12.328696250915527, \"planet\": \"Qatar-7 b\", \"cat\": \"no\", \"cluster_id\": -1}, {\"UMAP component 1\": 10.312444686889648, \"UMAP component 2\": 11.997671127319336, \"planet\": \"Qatar-8 b\", \"cat\": \"no\", \"cluster_id\": -1}, {\"UMAP component 1\": 1.1984071731567383, \"UMAP component 2\": 11.92128849029541, \"planet\": \"TOI-1201 b\", \"cat\": \"no\", \"cluster_id\": -1}, {\"UMAP component 1\": 7.087436199188232, \"UMAP component 2\": 10.9015531539917, \"planet\": \"TOI-1246 e\", \"cat\": \"no\", \"cluster_id\": -1}, {\"UMAP component 1\": 5.620570659637451, \"UMAP component 2\": 6.908692836761475, \"planet\": \"TOI-1272 b\", \"cat\": \"no\", \"cluster_id\": -1}, {\"UMAP component 1\": 1.9343301057815552, \"UMAP component 2\": 9.943750381469727, \"planet\": \"TOI-132 b\", \"cat\": \"no\", \"cluster_id\": -1}, {\"UMAP component 1\": 6.690808296203613, \"UMAP component 2\": 9.744277000427246, \"planet\": \"TOI-1338 b\", \"cat\": \"no\", \"cluster_id\": -1}, {\"UMAP component 1\": 4.645350933074951, \"UMAP component 2\": 6.988441467285156, \"planet\": \"TOI-1695 b\", \"cat\": \"no\", \"cluster_id\": -1}, {\"UMAP component 1\": 6.61637020111084, \"UMAP component 2\": 13.437743186950684, \"planet\": \"TOI-1759 b\", \"cat\": \"no\", \"cluster_id\": -1}, {\"UMAP component 1\": 9.780830383300781, \"UMAP component 2\": 8.279195785522461, \"planet\": \"TOI-181 b\", \"cat\": \"no\", \"cluster_id\": -1}, {\"UMAP component 1\": 8.657079696655273, \"UMAP component 2\": 11.391518592834473, \"planet\": \"TOI-1820 b\", \"cat\": \"no\", \"cluster_id\": -1}, {\"UMAP component 1\": 8.600932121276855, \"UMAP component 2\": 7.298282623291016, \"planet\": \"TOI-2025 b\", \"cat\": \"no\", \"cluster_id\": -1}, {\"UMAP component 1\": 8.650696754455566, \"UMAP component 2\": 13.857271194458008, \"planet\": \"TOI-2046 b\", \"cat\": \"no\", \"cluster_id\": -1}, {\"UMAP component 1\": 9.880431175231934, \"UMAP component 2\": 9.575742721557617, \"planet\": \"TOI-2154 b\", \"cat\": \"no\", \"cluster_id\": -1}, {\"UMAP component 1\": 12.148238182067871, \"UMAP component 2\": 9.563922882080078, \"planet\": \"TOI-2202 b\", \"cat\": \"no\", \"cluster_id\": -1}, {\"UMAP component 1\": 5.883608341217041, \"UMAP component 2\": 12.634810447692871, \"planet\": \"TOI-2337 b\", \"cat\": \"no\", \"cluster_id\": -1}, {\"UMAP component 1\": 9.412880897521973, \"UMAP component 2\": 7.422369480133057, \"planet\": \"TOI-2525 b\", \"cat\": \"no\", \"cluster_id\": -1}, {\"UMAP component 1\": 9.1378812789917, \"UMAP component 2\": 11.456429481506348, \"planet\": \"TOI-3364 b\", \"cat\": \"no\", \"cluster_id\": -1}, {\"UMAP component 1\": 5.714039325714111, \"UMAP component 2\": 13.002846717834473, \"planet\": \"TOI-431 d\", \"cat\": \"no\", \"cluster_id\": -1}, {\"UMAP component 1\": 8.605215072631836, \"UMAP component 2\": 9.342009544372559, \"planet\": \"TOI-4406 b\", \"cat\": \"no\", \"cluster_id\": -1}, {\"UMAP component 1\": 8.161090850830078, \"UMAP component 2\": 5.029776573181152, \"planet\": \"TOI-4562 b\", \"cat\": \"no\", \"cluster_id\": -1}, {\"UMAP component 1\": 8.64989948272705, \"UMAP component 2\": 8.087874412536621, \"planet\": \"TOI-4603 b\", \"cat\": \"no\", \"cluster_id\": -1}, {\"UMAP component 1\": 1.034146785736084, \"UMAP component 2\": 10.215381622314453, \"planet\": \"TOI-500 b\", \"cat\": \"no\", \"cluster_id\": -1}, {\"UMAP component 1\": 8.7368745803833, \"UMAP component 2\": 9.772790908813477, \"planet\": \"TOI-5153 b\", \"cat\": \"no\", \"cluster_id\": -1}, {\"UMAP component 1\": 7.363248348236084, \"UMAP component 2\": 14.148405075073242, \"planet\": \"TOI-532 b\", \"cat\": \"no\", \"cluster_id\": -1}, {\"UMAP component 1\": 8.887649536132812, \"UMAP component 2\": 8.499468803405762, \"planet\": \"TOI-559 b\", \"cat\": \"no\", \"cluster_id\": -1}, {\"UMAP component 1\": 7.665261268615723, \"UMAP component 2\": 14.253252029418945, \"planet\": \"TOI-674 b\", \"cat\": \"no\", \"cluster_id\": -1}, {\"UMAP component 1\": 8.580733299255371, \"UMAP component 2\": 6.985269546508789, \"planet\": \"TOI-677 b\", \"cat\": \"no\", \"cluster_id\": -1}, {\"UMAP component 1\": 1.7245073318481445, \"UMAP component 2\": 9.475442886352539, \"planet\": \"TOI-836 b\", \"cat\": \"no\", \"cluster_id\": -1}, {\"UMAP component 1\": 9.175525665283203, \"UMAP component 2\": 9.039212226867676, \"planet\": \"TOI-892 b\", \"cat\": \"no\", \"cluster_id\": -1}, {\"UMAP component 1\": 10.845410346984863, \"UMAP component 2\": 12.05087661743164, \"planet\": \"WASP-123 b\", \"cat\": \"no\", \"cluster_id\": -1}, {\"UMAP component 1\": 9.030138969421387, \"UMAP component 2\": 11.347506523132324, \"planet\": \"WASP-131 b\", \"cat\": \"no\", \"cluster_id\": -1}, {\"UMAP component 1\": 8.202981948852539, \"UMAP component 2\": 12.305604934692383, \"planet\": \"WASP-138 b\", \"cat\": \"no\", \"cluster_id\": -1}, {\"UMAP component 1\": 11.809517860412598, \"UMAP component 2\": 9.838089942932129, \"planet\": \"WASP-140 b\", \"cat\": \"no\", \"cluster_id\": -1}, {\"UMAP component 1\": 7.884241580963135, \"UMAP component 2\": 12.269391059875488, \"planet\": \"WASP-158 b\", \"cat\": \"no\", \"cluster_id\": -1}, {\"UMAP component 1\": 8.728527069091797, \"UMAP component 2\": 10.73542308807373, \"planet\": \"WASP-172 b\", \"cat\": \"no\", \"cluster_id\": -1}, {\"UMAP component 1\": 7.751053810119629, \"UMAP component 2\": 13.778109550476074, \"planet\": \"WASP-173 A b\", \"cat\": \"no\", \"cluster_id\": -1}, {\"UMAP component 1\": 9.308732032775879, \"UMAP component 2\": 12.509785652160645, \"planet\": \"WASP-180 A b\", \"cat\": \"no\", \"cluster_id\": -1}, {\"UMAP component 1\": 6.82584810256958, \"UMAP component 2\": 10.795588493347168, \"planet\": \"WASP-189 b\", \"cat\": \"no\", \"cluster_id\": -1}, {\"UMAP component 1\": 10.085729598999023, \"UMAP component 2\": 12.003372192382812, \"planet\": \"WASP-22 b\", \"cat\": \"no\", \"cluster_id\": -1}, {\"UMAP component 1\": 11.364937782287598, \"UMAP component 2\": 12.702199935913086, \"planet\": \"WASP-29 b\", \"cat\": \"no\", \"cluster_id\": -1}, {\"UMAP component 1\": 11.954910278320312, \"UMAP component 2\": 12.4811372756958, \"planet\": \"WASP-2 b\", \"cat\": \"no\", \"cluster_id\": -1}, {\"UMAP component 1\": 7.3296098709106445, \"UMAP component 2\": 13.660810470581055, \"planet\": \"WASP-32 b\", \"cat\": \"no\", \"cluster_id\": -1}, {\"UMAP component 1\": 8.709399223327637, \"UMAP component 2\": 10.530546188354492, \"planet\": \"WASP-38 b\", \"cat\": \"no\", \"cluster_id\": -1}, {\"UMAP component 1\": 11.110177993774414, \"UMAP component 2\": 11.826871871948242, \"planet\": \"WASP-47 b\", \"cat\": \"no\", \"cluster_id\": -1}, {\"UMAP component 1\": 3.9524340629577637, \"UMAP component 2\": 10.87360954284668, \"planet\": \"WASP-47 d\", \"cat\": \"no\", \"cluster_id\": -1}, {\"UMAP component 1\": 12.306015014648438, \"UMAP component 2\": 10.87016487121582, \"planet\": \"WASP-52 b\", \"cat\": \"no\", \"cluster_id\": -1}, {\"UMAP component 1\": 11.566415786743164, \"UMAP component 2\": 10.788516998291016, \"planet\": \"WASP-55 b\", \"cat\": \"no\", \"cluster_id\": -1}, {\"UMAP component 1\": 11.275361061096191, \"UMAP component 2\": 12.934562683105469, \"planet\": \"WASP-57 b\", \"cat\": \"no\", \"cluster_id\": -1}, {\"UMAP component 1\": 7.001395225524902, \"UMAP component 2\": 13.026493072509766, \"planet\": \"WASP-60 b\", \"cat\": \"no\", \"cluster_id\": -1}, {\"UMAP component 1\": 9.246994018554688, \"UMAP component 2\": 11.400969505310059, \"planet\": \"WASP-61 b\", \"cat\": \"no\", \"cluster_id\": -1}, {\"UMAP component 1\": 7.142566204071045, \"UMAP component 2\": 11.561755180358887, \"planet\": \"WASP-72 b\", \"cat\": \"no\", \"cluster_id\": -1}, {\"UMAP component 1\": 9.4674711227417, \"UMAP component 2\": 11.316680908203125, \"planet\": \"WASP-7 b\", \"cat\": \"no\", \"cluster_id\": -1}, {\"UMAP component 1\": 10.884016036987305, \"UMAP component 2\": 11.611112594604492, \"planet\": \"WASP-83 b\", \"cat\": \"no\", \"cluster_id\": -1}, {\"UMAP component 1\": 12.041033744812012, \"UMAP component 2\": 11.856391906738281, \"planet\": \"WASP-91 b\", \"cat\": \"no\", \"cluster_id\": -1}, {\"UMAP component 1\": 11.552727699279785, \"UMAP component 2\": 11.571855545043945, \"planet\": \"WASP-96 b\", \"cat\": \"no\", \"cluster_id\": -1}, {\"UMAP component 1\": 8.852554321289062, \"UMAP component 2\": 13.817939758300781, \"planet\": \"WASP-97 b\", \"cat\": \"no\", \"cluster_id\": -1}, {\"UMAP component 1\": 11.69227409362793, \"UMAP component 2\": 11.42310905456543, \"planet\": \"XO-1 b\", \"cat\": \"no\", \"cluster_id\": -1}, {\"UMAP component 1\": 9.443592071533203, \"UMAP component 2\": 10.568856239318848, \"planet\": \"XO-7 b\", \"cat\": \"no\", \"cluster_id\": -1}, {\"UMAP component 1\": 8.285112380981445, \"UMAP component 2\": 4.3950982093811035, \"planet\": \"Kepler-1647 b\", \"cat\": \"no\", \"cluster_id\": 2}, {\"UMAP component 1\": 8.34051513671875, \"UMAP component 2\": 4.27496337890625, \"planet\": \"Kepler-1661 b\", \"cat\": \"no\", \"cluster_id\": 2}, {\"UMAP component 1\": 8.30592155456543, \"UMAP component 2\": 4.335845947265625, \"planet\": \"Kepler-16 b\", \"cat\": \"no\", \"cluster_id\": 2}, {\"UMAP component 1\": 8.271909713745117, \"UMAP component 2\": 4.379889011383057, \"planet\": \"Kepler-453 b\", \"cat\": \"no\", \"cluster_id\": 2}, {\"UMAP component 1\": 8.360939025878906, \"UMAP component 2\": 4.258200645446777, \"planet\": \"Kepler-62 f\", \"cat\": \"Conservative\", \"cluster_id\": 2}, {\"UMAP component 1\": 8.30759048461914, \"UMAP component 2\": 4.319973468780518, \"planet\": \"LHS 1140 b\", \"cat\": \"Optimistic\", \"cluster_id\": 2}, {\"UMAP component 1\": 8.342767715454102, \"UMAP component 2\": 4.297405242919922, \"planet\": \"LP 890-9 c\", \"cat\": \"Conservative\", \"cluster_id\": 2}, {\"UMAP component 1\": 8.30220890045166, \"UMAP component 2\": 4.250195503234863, \"planet\": \"TRAPPIST-1 e\", \"cat\": \"Conservative\", \"cluster_id\": 2}, {\"UMAP component 1\": 8.33000373840332, \"UMAP component 2\": 4.26959753036499, \"planet\": \"TRAPPIST-1 f\", \"cat\": \"Conservative\", \"cluster_id\": 2}, {\"UMAP component 1\": 8.31045150756836, \"UMAP component 2\": 4.301244735717773, \"planet\": \"TRAPPIST-1 g\", \"cat\": \"Conservative\", \"cluster_id\": 2}, {\"UMAP component 1\": 8.141477584838867, \"UMAP component 2\": 4.606621742248535, \"planet\": \"K2-3 d\", \"cat\": \"no\", \"cluster_id\": 4}, {\"UMAP component 1\": 8.183810234069824, \"UMAP component 2\": 4.729242324829102, \"planet\": \"Kepler-1654 b\", \"cat\": \"no\", \"cluster_id\": 4}, {\"UMAP component 1\": 8.182552337646484, \"UMAP component 2\": 4.720448017120361, \"planet\": \"Kepler-1708 b\", \"cat\": \"no\", \"cluster_id\": 4}, {\"UMAP component 1\": 8.208452224731445, \"UMAP component 2\": 4.767089366912842, \"planet\": \"Kepler-22 b\", \"cat\": \"Optimistic\", \"cluster_id\": 4}, {\"UMAP component 1\": 8.16641616821289, \"UMAP component 2\": 4.6794962882995605, \"planet\": \"TOI-2285 b\", \"cat\": \"no\", \"cluster_id\": 4}, {\"UMAP component 1\": 8.206086158752441, \"UMAP component 2\": 4.559356689453125, \"planet\": \"Kepler-34 b\", \"cat\": \"no\", \"cluster_id\": 5}, {\"UMAP component 1\": 8.200432777404785, \"UMAP component 2\": 4.522023677825928, \"planet\": \"Kepler-62 e\", \"cat\": \"Optimistic\", \"cluster_id\": 5}, {\"UMAP component 1\": 8.193106651306152, \"UMAP component 2\": 4.55167293548584, \"planet\": \"TRAPPIST-1 d\", \"cat\": \"Conservative\", \"cluster_id\": 5}]}}, {\"mode\": \"vega-lite\"});\n",
       "</script>"
      ],
      "text/plain": [
       "alt.Chart(...)"
      ]
     },
     "execution_count": 95,
     "metadata": {},
     "output_type": "execute_result"
    }
   ],
   "source": [
    "alt.Chart(df_h_closed).mark_point(size=60).encode(\n",
    "    x='UMAP component 1',\n",
    "    y='UMAP component 2',\n",
    "    color=alt.Color('cluster_id', scale=alt.Scale(scheme='category20c')),\n",
    "    shape=alt.Shape('cat:N'),\n",
    "    tooltip=['planet']\n",
    ").properties(title='UMAP & HBDSCAN',height=400,width=500).interactive()"
   ]
  },
  {
   "attachments": {},
   "cell_type": "markdown",
   "metadata": {},
   "source": [
    "The above HDBSCAN result still could not identify which candidates are more closed to habitable planets.\n",
    "Thus, we will take cosine similarity to precisely look for those candidates."
   ]
  },
  {
   "attachments": {},
   "cell_type": "markdown",
   "metadata": {},
   "source": [
    "##### 2.4 Look for similiar planets by COSINE SIMILARITY"
   ]
  },
  {
   "cell_type": "code",
   "execution_count": 96,
   "metadata": {},
   "outputs": [],
   "source": [
    "from sklearn.metrics.pairwise import cosine_similarity\n",
    "import numpy as np\n",
    "\n",
    "# Find the similiar sentences based on the similarity level\n",
    "# return the similar sentences in the same list with \n",
    "def similarity_clustering(df_full,simlevel=0.9):\n",
    "  if df_full.empty:\n",
    "    print('Please assign list!')\n",
    "    return pd.DataFrame()\n",
    "  else:\n",
    "    df_num = pd.DataFrame(df_full[df_full.select_dtypes(include=['int', 'float']).columns])\n",
    "    df_name = pd.DataFrame(df_full[['PLANET','cat']])\n",
    "    \n",
    "    # Set the simlarity threshold \n",
    "    THRESHOLD=simlevel\n",
    "\n",
    "    #Create dateset to cluster the similar planets\n",
    "    new_cluster=pd.DataFrame(columns=list(df_name.columns)+['score','id','cluster','s_planet','s_cat'])\n",
    "\n",
    "    for i in range(len(df_name)):\n",
    "        if df_name.iloc[i]['cat']!='no':\n",
    "            continue\n",
    "        else:\n",
    "            df_temp=pd.DataFrame(columns=df_name.columns)\n",
    "            str_to_predict=df_num.iloc[i]\n",
    "            # Compare similarity\n",
    "            sim=cosine_similarity([str_to_predict],df_num)\n",
    "            j=np.argmax(sim)\n",
    "            sim_rows=list(np.where((sim[0]>THRESHOLD)))[0]\n",
    "            # cluster the sentences in training set by error records\n",
    "            rest_rows=list(set(sim_rows)-set(new_cluster.id.to_list()))\n",
    "            if rest_rows !=[]:\n",
    "                if new_cluster.empty:\n",
    "                    cluster_id=0\n",
    "                else:\n",
    "                    cluster_id=new_cluster['cluster'].max()+1       \n",
    "                df_temp=df_name.iloc[rest_rows]\n",
    "                if df_temp.empty== False:\n",
    "                    df_temp['score']=sim[0][rest_rows]\n",
    "                    df_temp['id']=rest_rows\n",
    "                    df_temp['cluster']=cluster_id\n",
    "                    df_temp['s_planet']=df_name.iloc[i]['PLANET']\n",
    "                    df_temp['s_cat']=df_name.iloc[i]['cat']\n",
    "                    new_cluster=pd.concat([new_cluster,df_temp],axis=0,ignore_index=True)\n",
    "                    #new_cluster=new_cluster.append(df_temp,ignore_index=True)\n",
    "\n",
    "    return new_cluster"
   ]
  },
  {
   "cell_type": "code",
   "execution_count": 97,
   "metadata": {},
   "outputs": [],
   "source": [
    "# Look for the similiar products which could be almost same\n",
    "new_cluster=similarity_clustering(normalized_hz_cat,simlevel=0.9)"
   ]
  },
  {
   "cell_type": "code",
   "execution_count": 98,
   "metadata": {},
   "outputs": [
    {
     "data": {
      "text/html": [
       "<div>\n",
       "<style scoped>\n",
       "    .dataframe tbody tr th:only-of-type {\n",
       "        vertical-align: middle;\n",
       "    }\n",
       "\n",
       "    .dataframe tbody tr th {\n",
       "        vertical-align: top;\n",
       "    }\n",
       "\n",
       "    .dataframe thead th {\n",
       "        text-align: right;\n",
       "    }\n",
       "</style>\n",
       "<table border=\"1\" class=\"dataframe\">\n",
       "  <thead>\n",
       "    <tr style=\"text-align: right;\">\n",
       "      <th></th>\n",
       "      <th>PLANET</th>\n",
       "      <th>cat</th>\n",
       "      <th>score</th>\n",
       "      <th>id</th>\n",
       "      <th>cluster</th>\n",
       "      <th>s_planet</th>\n",
       "      <th>s_cat</th>\n",
       "    </tr>\n",
       "  </thead>\n",
       "  <tbody>\n",
       "    <tr>\n",
       "      <th>1000</th>\n",
       "      <td>Kepler-22 b</td>\n",
       "      <td>Optimistic</td>\n",
       "      <td>0.905559</td>\n",
       "      <td>437</td>\n",
       "      <td>25</td>\n",
       "      <td>Kepler-1708 b</td>\n",
       "      <td>no</td>\n",
       "    </tr>\n",
       "    <tr>\n",
       "      <th>999</th>\n",
       "      <td>K2-18 b</td>\n",
       "      <td>Optimistic</td>\n",
       "      <td>0.943416</td>\n",
       "      <td>285</td>\n",
       "      <td>24</td>\n",
       "      <td>Kepler-1661 b</td>\n",
       "      <td>no</td>\n",
       "    </tr>\n",
       "    <tr>\n",
       "      <th>991</th>\n",
       "      <td>Kepler-62 f</td>\n",
       "      <td>Conservative</td>\n",
       "      <td>0.936500</td>\n",
       "      <td>531</td>\n",
       "      <td>22</td>\n",
       "      <td>Kepler-1647 b</td>\n",
       "      <td>no</td>\n",
       "    </tr>\n",
       "    <tr>\n",
       "      <th>987</th>\n",
       "      <td>LHS 1140 b</td>\n",
       "      <td>Optimistic</td>\n",
       "      <td>0.926039</td>\n",
       "      <td>583</td>\n",
       "      <td>22</td>\n",
       "      <td>Kepler-1647 b</td>\n",
       "      <td>no</td>\n",
       "    </tr>\n",
       "    <tr>\n",
       "      <th>988</th>\n",
       "      <td>LP 890-9 c</td>\n",
       "      <td>Conservative</td>\n",
       "      <td>0.922511</td>\n",
       "      <td>591</td>\n",
       "      <td>22</td>\n",
       "      <td>Kepler-1647 b</td>\n",
       "      <td>no</td>\n",
       "    </tr>\n",
       "    <tr>\n",
       "      <th>994</th>\n",
       "      <td>TRAPPIST-1 g</td>\n",
       "      <td>Conservative</td>\n",
       "      <td>0.919718</td>\n",
       "      <td>827</td>\n",
       "      <td>22</td>\n",
       "      <td>Kepler-1647 b</td>\n",
       "      <td>no</td>\n",
       "    </tr>\n",
       "    <tr>\n",
       "      <th>995</th>\n",
       "      <td>TRAPPIST-1 f</td>\n",
       "      <td>Conservative</td>\n",
       "      <td>0.918982</td>\n",
       "      <td>826</td>\n",
       "      <td>22</td>\n",
       "      <td>Kepler-1647 b</td>\n",
       "      <td>no</td>\n",
       "    </tr>\n",
       "    <tr>\n",
       "      <th>992</th>\n",
       "      <td>TRAPPIST-1 e</td>\n",
       "      <td>Conservative</td>\n",
       "      <td>0.917883</td>\n",
       "      <td>825</td>\n",
       "      <td>22</td>\n",
       "      <td>Kepler-1647 b</td>\n",
       "      <td>no</td>\n",
       "    </tr>\n",
       "    <tr>\n",
       "      <th>985</th>\n",
       "      <td>Kepler-62 e</td>\n",
       "      <td>Optimistic</td>\n",
       "      <td>0.956384</td>\n",
       "      <td>530</td>\n",
       "      <td>21</td>\n",
       "      <td>K2-3 d</td>\n",
       "      <td>no</td>\n",
       "    </tr>\n",
       "    <tr>\n",
       "      <th>983</th>\n",
       "      <td>TRAPPIST-1 d</td>\n",
       "      <td>Conservative</td>\n",
       "      <td>0.946937</td>\n",
       "      <td>824</td>\n",
       "      <td>21</td>\n",
       "      <td>K2-3 d</td>\n",
       "      <td>no</td>\n",
       "    </tr>\n",
       "  </tbody>\n",
       "</table>\n",
       "</div>"
      ],
      "text/plain": [
       "            PLANET           cat     score   id cluster       s_planet s_cat\n",
       "1000   Kepler-22 b    Optimistic  0.905559  437      25  Kepler-1708 b    no\n",
       "999        K2-18 b    Optimistic  0.943416  285      24  Kepler-1661 b    no\n",
       "991    Kepler-62 f  Conservative  0.936500  531      22  Kepler-1647 b    no\n",
       "987     LHS 1140 b    Optimistic  0.926039  583      22  Kepler-1647 b    no\n",
       "988     LP 890-9 c  Conservative  0.922511  591      22  Kepler-1647 b    no\n",
       "994   TRAPPIST-1 g  Conservative  0.919718  827      22  Kepler-1647 b    no\n",
       "995   TRAPPIST-1 f  Conservative  0.918982  826      22  Kepler-1647 b    no\n",
       "992   TRAPPIST-1 e  Conservative  0.917883  825      22  Kepler-1647 b    no\n",
       "985    Kepler-62 e    Optimistic  0.956384  530      21         K2-3 d    no\n",
       "983   TRAPPIST-1 d  Conservative  0.946937  824      21         K2-3 d    no"
      ]
     },
     "execution_count": 98,
     "metadata": {},
     "output_type": "execute_result"
    }
   ],
   "source": [
    "df_sim_cluster=new_cluster[new_cluster['cat']!=new_cluster['s_cat']].sort_values(by=['s_planet','score'],ascending=False)\n",
    "df_sim_cluster"
   ]
  },
  {
   "cell_type": "code",
   "execution_count": 99,
   "metadata": {},
   "outputs": [
    {
     "ename": "NameError",
     "evalue": "name 'df_k' is not defined",
     "output_type": "error",
     "traceback": [
      "\u001b[0;31m---------------------------------------------------------------------------\u001b[0m",
      "\u001b[0;31mNameError\u001b[0m                                 Traceback (most recent call last)",
      "\u001b[0;32m/var/folders/n8/hjx9xs1j0yz9r83btkmwv3_40000gn/T/ipykernel_5760/1517250574.py\u001b[0m in \u001b[0;36m<cell line: 2>\u001b[0;34m()\u001b[0m\n\u001b[1;32m      1\u001b[0m \u001b[0;31m# Look for the cluster id in the kmeans\u001b[0m\u001b[0;34m\u001b[0m\u001b[0;34m\u001b[0m\u001b[0m\n\u001b[0;32m----> 2\u001b[0;31m \u001b[0mdf_sim_k\u001b[0m\u001b[0;34m=\u001b[0m\u001b[0mpd\u001b[0m\u001b[0;34m.\u001b[0m\u001b[0mmerge\u001b[0m\u001b[0;34m(\u001b[0m\u001b[0mdf_sim_cluster\u001b[0m\u001b[0;34m,\u001b[0m\u001b[0mdf_k\u001b[0m\u001b[0;34m[\u001b[0m\u001b[0;34m[\u001b[0m\u001b[0;34m'planet'\u001b[0m\u001b[0;34m,\u001b[0m\u001b[0;34m'cluster_id'\u001b[0m\u001b[0;34m]\u001b[0m\u001b[0;34m]\u001b[0m\u001b[0;34m,\u001b[0m\u001b[0mhow\u001b[0m\u001b[0;34m=\u001b[0m\u001b[0;34m'inner'\u001b[0m\u001b[0;34m,\u001b[0m\u001b[0mleft_on\u001b[0m\u001b[0;34m=\u001b[0m\u001b[0;34m'PLANET'\u001b[0m\u001b[0;34m,\u001b[0m\u001b[0mright_on\u001b[0m\u001b[0;34m=\u001b[0m\u001b[0;34m'planet'\u001b[0m\u001b[0;34m)\u001b[0m\u001b[0;34m\u001b[0m\u001b[0;34m\u001b[0m\u001b[0m\n\u001b[0m\u001b[1;32m      3\u001b[0m \u001b[0mdf_sim_k\u001b[0m\u001b[0;34m=\u001b[0m\u001b[0mpd\u001b[0m\u001b[0;34m.\u001b[0m\u001b[0mmerge\u001b[0m\u001b[0;34m(\u001b[0m\u001b[0mdf_sim_k\u001b[0m\u001b[0;34m,\u001b[0m\u001b[0mdf_k\u001b[0m\u001b[0;34m[\u001b[0m\u001b[0;34m[\u001b[0m\u001b[0;34m'planet'\u001b[0m\u001b[0;34m,\u001b[0m\u001b[0;34m'cluster_id'\u001b[0m\u001b[0;34m]\u001b[0m\u001b[0;34m]\u001b[0m\u001b[0;34m,\u001b[0m\u001b[0mhow\u001b[0m\u001b[0;34m=\u001b[0m\u001b[0;34m'inner'\u001b[0m\u001b[0;34m,\u001b[0m\u001b[0mleft_on\u001b[0m\u001b[0;34m=\u001b[0m\u001b[0;34m's_planet'\u001b[0m\u001b[0;34m,\u001b[0m\u001b[0mright_on\u001b[0m\u001b[0;34m=\u001b[0m\u001b[0;34m'planet'\u001b[0m\u001b[0;34m)\u001b[0m\u001b[0;34m\u001b[0m\u001b[0;34m\u001b[0m\u001b[0m\n\u001b[1;32m      4\u001b[0m \u001b[0mdf_sim_k\u001b[0m\u001b[0;34m=\u001b[0m\u001b[0mdf_sim_k\u001b[0m\u001b[0;34m[\u001b[0m\u001b[0;34m[\u001b[0m\u001b[0;34m'PLANET'\u001b[0m\u001b[0;34m,\u001b[0m\u001b[0;34m'cat'\u001b[0m\u001b[0;34m,\u001b[0m\u001b[0;34m's_planet'\u001b[0m\u001b[0;34m,\u001b[0m\u001b[0;34m's_cat'\u001b[0m\u001b[0;34m,\u001b[0m\u001b[0;34m'score'\u001b[0m\u001b[0;34m,\u001b[0m\u001b[0;34m'cluster'\u001b[0m\u001b[0;34m,\u001b[0m\u001b[0;34m'cluster_id_x'\u001b[0m\u001b[0;34m,\u001b[0m\u001b[0;34m'cluster_id_y'\u001b[0m\u001b[0;34m]\u001b[0m\u001b[0;34m]\u001b[0m\u001b[0;34m\u001b[0m\u001b[0;34m\u001b[0m\u001b[0m\n\u001b[1;32m      5\u001b[0m \u001b[0mdf_sim_k\u001b[0m\u001b[0;34m.\u001b[0m\u001b[0mcolumns\u001b[0m\u001b[0;34m=\u001b[0m\u001b[0;34m[\u001b[0m\u001b[0;34m'planet'\u001b[0m\u001b[0;34m,\u001b[0m\u001b[0;34m'cat'\u001b[0m\u001b[0;34m,\u001b[0m\u001b[0;34m's_planet'\u001b[0m\u001b[0;34m,\u001b[0m\u001b[0;34m's_cat'\u001b[0m\u001b[0;34m,\u001b[0m\u001b[0;34m'score'\u001b[0m\u001b[0;34m,\u001b[0m\u001b[0;34m'c_cluster'\u001b[0m\u001b[0;34m,\u001b[0m\u001b[0;34m'k_cluster_x'\u001b[0m\u001b[0;34m,\u001b[0m\u001b[0;34m'k_cluster_y'\u001b[0m\u001b[0;34m]\u001b[0m\u001b[0;34m\u001b[0m\u001b[0;34m\u001b[0m\u001b[0m\n",
      "\u001b[0;31mNameError\u001b[0m: name 'df_k' is not defined"
     ]
    }
   ],
   "source": [
    "# Look for the cluster id in the kmeans\n",
    "df_sim_k=pd.merge(df_sim_cluster,df_k[['planet','cluster_id']],how='inner',left_on='PLANET',right_on='planet')\n",
    "df_sim_k=pd.merge(df_sim_k,df_k[['planet','cluster_id']],how='inner',left_on='s_planet',right_on='planet')\n",
    "df_sim_k=df_sim_k[['PLANET','cat','s_planet','s_cat','score','cluster','cluster_id_x','cluster_id_y']]\n",
    "df_sim_k.columns=['planet','cat','s_planet','s_cat','score','c_cluster','k_cluster_x','k_cluster_y']\n",
    "df_sim_k"
   ]
  },
  {
   "cell_type": "code",
   "execution_count": null,
   "metadata": {},
   "outputs": [],
   "source": [
    "# Look for the cluster id in the hdbscan\n",
    "df_sim_kh=pd.merge(df_sim_k,df_uh_c[['planet','cluster_id']],how='inner',left_on='planet',right_on='planet')\n",
    "df_sim_kh=pd.merge(df_sim_kh,df_uh_c[['planet','cluster_id']],how='inner',left_on='s_planet',right_on='planet')\n",
    "df_sim_kh=df_sim_kh[['s_planet','s_cat','planet_x','cat','score','c_cluster','k_cluster_x','k_cluster_y','cluster_id_x','cluster_id_y']]\n",
    "df_sim_kh.rename(columns={'planet_x':'planet'},inplace=True)\n",
    "df_sim_kh"
   ]
  },
  {
   "cell_type": "code",
   "execution_count": null,
   "metadata": {},
   "outputs": [],
   "source": [
    "sim_p_list=new_cluster[new_cluster['cat']!=new_cluster['s_cat']]['PLANET'].unique().tolist()+new_cluster[new_cluster['cat']!=new_cluster['s_cat']]['s_planet'].unique().tolist()\n",
    "sim_p_list"
   ]
  },
  {
   "attachments": {},
   "cell_type": "markdown",
   "metadata": {},
   "source": [
    "The above list is the features of those planets are very similar, that means, it could be possible to\n",
    "detect more habitable planets. \n",
    "\n",
    "We can visualize those planets by PCA and UMAP."
   ]
  },
  {
   "cell_type": "code",
   "execution_count": null,
   "metadata": {},
   "outputs": [],
   "source": [
    "import altair as alt\n",
    "\n",
    "alt.Chart(df_k[df_k['planet'].isin(sim_p_list)]).mark_point(size=60,filled=True,stroke='black').encode(\n",
    "    x='principal component 1',\n",
    "    y='principal component 2',\n",
    "    color=alt.Color('cat:N',scale=alt.Scale(range=['green','yellow','red'])),\n",
    "    shape=alt.Shape('cluster_id:N'),\n",
    "    tooltip=['cluster_id','cat','planet']\n",
    ").properties(title='PCA & Kmeans',height=400,width=500).interactive()"
   ]
  },
  {
   "cell_type": "code",
   "execution_count": null,
   "metadata": {},
   "outputs": [],
   "source": [
    "alt.Chart(df_uh_c[df_uh_c['planet'].isin(sim_p_list)]).mark_point(size=60,filled=True,stroke='black').encode(\n",
    "    x='UMAP component 1',\n",
    "    y='UMAP component 2',\n",
    "    color=alt.Color('cat:N',scale=alt.Scale(range=['green','yellow','red'])),\n",
    "    shape=alt.Shape('cluster_id:N'),\n",
    "    tooltip=['planet','cat','cluster_id']\n",
    ").properties(title='UMAP & HBDSCAN',height=400,width=500).interactive()"
   ]
  },
  {
   "cell_type": "code",
   "execution_count": null,
   "metadata": {},
   "outputs": [],
   "source": [
    "count_null(normalized_hz_cat[normalized_hz_cat['PLANET'].isin(sim_p_list)])\n"
   ]
  },
  {
   "attachments": {},
   "cell_type": "markdown",
   "metadata": {},
   "source": [
    "Check the raidus and mass of planets since those are missing in the previous similarity check"
   ]
  },
  {
   "cell_type": "code",
   "execution_count": null,
   "metadata": {},
   "outputs": [],
   "source": [
    "exoplanets.columns"
   ]
  },
  {
   "cell_type": "code",
   "execution_count": null,
   "metadata": {},
   "outputs": [],
   "source": [
    "exoplanets[exoplanets['pl_name'].isin(sim_p_list)][['pl_masse']].head()"
   ]
  },
  {
   "attachments": {},
   "cell_type": "markdown",
   "metadata": {},
   "source": [
    "It looks like the data in NASA also has only one value in MASS. Thus, we have to find another way to\n",
    "figure out mass and raidus."
   ]
  },
  {
   "cell_type": "code",
   "execution_count": null,
   "metadata": {},
   "outputs": [],
   "source": [
    "df_sim=hz[hz['PLANET'].isin(sim_p_list)]"
   ]
  },
  {
   "cell_type": "code",
   "execution_count": null,
   "metadata": {},
   "outputs": [],
   "source": [
    "planets_ma_ra=df_sim[(df_sim['MASS']!='') & (df_sim['RADIUS']!='')]['PLANET'].unique()"
   ]
  },
  {
   "cell_type": "code",
   "execution_count": null,
   "metadata": {},
   "outputs": [],
   "source": [
    "planets_ma_ra"
   ]
  },
  {
   "cell_type": "code",
   "execution_count": null,
   "metadata": {},
   "outputs": [],
   "source": [
    "df_sim_cluster[df_sim_cluster['s_planet'].isin(planets_ma_ra)]"
   ]
  },
  {
   "cell_type": "code",
   "execution_count": null,
   "metadata": {},
   "outputs": [],
   "source": [
    "hz_nona[hz_nona['PLANET'].isin(['Kepler-22 b','Kepler-1654 b'])]"
   ]
  },
  {
   "cell_type": "code",
   "execution_count": null,
   "metadata": {},
   "outputs": [],
   "source": [
    "normalized_hz_cat[normalized_hz_cat['PLANET'].isin(['Kepler-22 b','Kepler-1654 b'])]\n"
   ]
  },
  {
   "cell_type": "code",
   "execution_count": null,
   "metadata": {},
   "outputs": [],
   "source": [
    "ls_splanet=df_sim_cluster[df_sim_cluster['s_planet'].isin(planets_ma_ra)]['s_planet'].unique()\n",
    "hz_nona[hz_nona['PLANET'].isin(ls_splanet)]"
   ]
  },
  {
   "cell_type": "code",
   "execution_count": null,
   "metadata": {},
   "outputs": [],
   "source": [
    "hz_cat[hz_cat.cat=='Conservative'][set(hz_cat.columns) - set(['PLANET','Planet','cat'])]"
   ]
  },
  {
   "cell_type": "code",
   "execution_count": null,
   "metadata": {},
   "outputs": [],
   "source": [
    "hz_cat[hz_cat.cat=='Optimistic'][set(hz_cat.columns) - set(['PLANET','Planet','cat'])]"
   ]
  },
  {
   "attachments": {},
   "cell_type": "markdown",
   "metadata": {},
   "source": [
    "#### Extract the weights from logisticRegression\n",
    "Given the cosine similarity result could indicate the inhabitable exoplanets similar with habiable ones are habitable, it \n",
    "may come from being lack of weights of the feature, we need to consider to assign the weight to features.\n",
    "\n",
    "One way to work out the weights is, to use the logistic regression to find out the weights, then multiply with features,\n",
    "and take the cosine similarity to look for the similarity, which could help to improve the accuracy."
   ]
  },
  {
   "cell_type": "code",
   "execution_count": null,
   "metadata": {},
   "outputs": [],
   "source": [
    "#### Select randomly 40 inhabitable planets from the dataset"
   ]
  },
  {
   "cell_type": "code",
   "execution_count": null,
   "metadata": {},
   "outputs": [],
   "source": [
    "normalized_hz_cat[normalized_hz_cat['cat']!='no'].shape"
   ]
  },
  {
   "cell_type": "code",
   "execution_count": null,
   "metadata": {},
   "outputs": [],
   "source": [
    "# randomly select 20 planets from the dataset and combine with the 10 planets which are habitable\n",
    "df_wset=pd.concat([normalized_hz_cat[normalized_hz_cat['cat']!='no'],\n",
    "                   normalized_hz_cat[normalized_hz_cat['cat']=='no'].sample(800)])\n",
    "\n",
    "# Replace 'cat' in the following: 0 - inhabitable, 1 - conservative, 2 - optimistic\n",
    "df_wset['cat']=df_wset['cat'].replace({'no':0,'Conservative':1,'Optimistic':1})"
   ]
  },
  {
   "cell_type": "code",
   "execution_count": null,
   "metadata": {},
   "outputs": [],
   "source": [
    "# Train the logistic regression model\n",
    "from sklearn.linear_model import LogisticRegression\n",
    "\n",
    "# Split the dataset into train and test\n",
    "X_train= df_wset[list(set(df_wset.columns) - set(['PLANET','Planet','cat']))]\n",
    "y_train= df_wset['cat']\n",
    "\n",
    "# Train the model\n",
    "clf = LogisticRegression(random_state=0).fit(X_train, y_train)\n",
    "\n",
    "# Extract weights from logistic regression\n",
    "clf.coef_\n",
    "\n"
   ]
  },
  {
   "cell_type": "code",
   "execution_count": null,
   "metadata": {},
   "outputs": [],
   "source": [
    "import numpy as np\n",
    "# Multiply the weights with the normalized values\n",
    "df_weights=np.multiply(clf.coef_,normalized_hz_cat[list(set(df_wset.columns) - set(['PLANET','Planet','cat']))])\n",
    "# merge the weights with the planet names and categories\n",
    "df_weighted_hz=pd.concat([df_weights,normalized_hz_cat[['PLANET','Planet','cat']]],axis=1,ignore_index=True)"
   ]
  },
  {
   "cell_type": "code",
   "execution_count": null,
   "metadata": {},
   "outputs": [],
   "source": [
    "# Look for the similiar products which could be almost same\n",
    "df_weighted_hz.columns=normalized_hz_cat.columns\n",
    "new_weighted_cluster=similarity_clustering(df_weighted_hz,simlevel=0.9)"
   ]
  },
  {
   "cell_type": "code",
   "execution_count": null,
   "metadata": {},
   "outputs": [],
   "source": [
    "df_weighted_sim_cluster=new_weighted_cluster[new_weighted_cluster['cat']!= \\\n",
    "                                             new_weighted_cluster['s_cat']].sort_values(by=['s_planet','score'],\\\n",
    "                                                                                        ascending=False)\n",
    "df_weighted_sim_cluster"
   ]
  },
  {
   "cell_type": "code",
   "execution_count": null,
   "metadata": {},
   "outputs": [],
   "source": [
    "hz_nona[hz_nona['PLANET'].isin(['Kepler-1647 b','GJ 414 A b'])]"
   ]
  }
 ],
 "metadata": {
  "kernelspec": {
   "display_name": "Python 3",
   "language": "python",
   "name": "python3"
  },
  "language_info": {
   "codemirror_mode": {
    "name": "ipython",
    "version": 3
   },
   "file_extension": ".py",
   "mimetype": "text/x-python",
   "name": "python",
   "nbconvert_exporter": "python",
   "pygments_lexer": "ipython3",
   "version": "3.10.9"
  },
  "orig_nbformat": 4
 },
 "nbformat": 4,
 "nbformat_minor": 2
}
